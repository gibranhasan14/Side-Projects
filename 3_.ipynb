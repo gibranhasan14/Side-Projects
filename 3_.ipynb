{
  "nbformat": 4,
  "nbformat_minor": 0,
  "metadata": {
    "colab": {
      "name": "3..ipynb",
      "version": "0.3.2",
      "provenance": [],
      "include_colab_link": true
    },
    "language_info": {
      "codemirror_mode": {
        "name": "ipython",
        "version": 3
      },
      "file_extension": ".py",
      "mimetype": "text/x-python",
      "name": "python",
      "nbconvert_exporter": "python",
      "pygments_lexer": "ipython3",
      "version": "3.6.2"
    },
    "kernelspec": {
      "display_name": "Python 3",
      "language": "python",
      "name": "python3"
    }
  },
  "cells": [
    {
      "cell_type": "markdown",
      "metadata": {
        "id": "view-in-github",
        "colab_type": "text"
      },
      "source": [
        "<a href=\"https://colab.research.google.com/github/gibranhasan14/Side-Projects/blob/master/3_.ipynb\" target=\"_parent\"><img src=\"https://colab.research.google.com/assets/colab-badge.svg\" alt=\"Open In Colab\"/></a>"
      ]
    },
    {
      "cell_type": "code",
      "metadata": {
        "id": "TmNBXuO7rf-m",
        "colab_type": "code",
        "colab": {}
      },
      "source": [
        "import pandas as pd\n",
        "from collections import defaultdict\n",
        "import matplotlib.pyplot as plt\n",
        "%matplotlib inline"
      ],
      "execution_count": 0,
      "outputs": []
    },
    {
      "cell_type": "code",
      "metadata": {
        "id": "LbFU0hVurf-p",
        "colab_type": "code",
        "colab": {}
      },
      "source": [
        "# Reading the data\n",
        "mydata = pd.read_json('act-prepurchase.json')"
      ],
      "execution_count": 0,
      "outputs": []
    },
    {
      "cell_type": "code",
      "metadata": {
        "id": "nfHStqDQrf-r",
        "colab_type": "code",
        "colab": {},
        "outputId": "5ce77e3a-acee-4df7-a0cd-1a21cc0a39b0"
      },
      "source": [
        "mydata.head()"
      ],
      "execution_count": 0,
      "outputs": [
        {
          "output_type": "execute_result",
          "data": {
            "text/html": [
              "<div>\n",
              "<style>\n",
              "    .dataframe thead tr:only-child th {\n",
              "        text-align: right;\n",
              "    }\n",
              "\n",
              "    .dataframe thead th {\n",
              "        text-align: left;\n",
              "    }\n",
              "\n",
              "    .dataframe tbody tr th {\n",
              "        vertical-align: top;\n",
              "    }\n",
              "</style>\n",
              "<table border=\"1\" class=\"dataframe\">\n",
              "  <thead>\n",
              "    <tr style=\"text-align: right;\">\n",
              "      <th></th>\n",
              "      <th>categories</th>\n",
              "      <th>magoosh_id</th>\n",
              "      <th>mixpanel_id</th>\n",
              "      <th>paid_t</th>\n",
              "      <th>subscription_id</th>\n",
              "      <th>times</th>\n",
              "    </tr>\n",
              "  </thead>\n",
              "  <tbody>\n",
              "    <tr>\n",
              "      <th>0</th>\n",
              "      <td>non provided search, non provided search, blog</td>\n",
              "      <td>0</td>\n",
              "      <td>[154b633dbc26d3-0bb4d557d-524d7f3f-100200-154b...</td>\n",
              "      <td>0</td>\n",
              "      <td>0</td>\n",
              "      <td>1507718605000, 1508000757000, 1511875234000</td>\n",
              "    </tr>\n",
              "    <tr>\n",
              "      <th>1</th>\n",
              "      <td>blog, non provided search</td>\n",
              "      <td>0</td>\n",
              "      <td>[15673638cef1f0-0f1fe1851-504b7d3c-13c680-1567...</td>\n",
              "      <td>0</td>\n",
              "      <td>0</td>\n",
              "      <td>1501369121000, 1501369209000</td>\n",
              "    </tr>\n",
              "    <tr>\n",
              "      <th>2</th>\n",
              "      <td>email, email</td>\n",
              "      <td>0</td>\n",
              "      <td>[1569f8f44b467-0f7587d4c21e3e-576d3c76-c0000-1...</td>\n",
              "      <td>0</td>\n",
              "      <td>0</td>\n",
              "      <td>1502260818000, 1502697712000</td>\n",
              "    </tr>\n",
              "    <tr>\n",
              "      <th>3</th>\n",
              "      <td>blog</td>\n",
              "      <td>0</td>\n",
              "      <td>[15726261272c4-00a8d7c2723412-20d1644-100200-1...</td>\n",
              "      <td>0</td>\n",
              "      <td>0</td>\n",
              "      <td>1505976988000</td>\n",
              "    </tr>\n",
              "    <tr>\n",
              "      <th>4</th>\n",
              "      <td>blog, blog, non provided search, blog, non pro...</td>\n",
              "      <td>0</td>\n",
              "      <td>[1572d80be4f350-08edad24cc3023-570f1423-3d10d-...</td>\n",
              "      <td>0</td>\n",
              "      <td>0</td>\n",
              "      <td>1501509911000, 1502316644000, 1502316819000, 1...</td>\n",
              "    </tr>\n",
              "  </tbody>\n",
              "</table>\n",
              "</div>"
            ],
            "text/plain": [
              "                                          categories  magoosh_id  \\\n",
              "0     non provided search, non provided search, blog           0   \n",
              "1                          blog, non provided search           0   \n",
              "2                                       email, email           0   \n",
              "3                                               blog           0   \n",
              "4  blog, blog, non provided search, blog, non pro...           0   \n",
              "\n",
              "                                         mixpanel_id  paid_t  subscription_id  \\\n",
              "0  [154b633dbc26d3-0bb4d557d-524d7f3f-100200-154b...       0                0   \n",
              "1  [15673638cef1f0-0f1fe1851-504b7d3c-13c680-1567...       0                0   \n",
              "2  [1569f8f44b467-0f7587d4c21e3e-576d3c76-c0000-1...       0                0   \n",
              "3  [15726261272c4-00a8d7c2723412-20d1644-100200-1...       0                0   \n",
              "4  [1572d80be4f350-08edad24cc3023-570f1423-3d10d-...       0                0   \n",
              "\n",
              "                                               times  \n",
              "0        1507718605000, 1508000757000, 1511875234000  \n",
              "1                       1501369121000, 1501369209000  \n",
              "2                       1502260818000, 1502697712000  \n",
              "3                                      1505976988000  \n",
              "4  1501509911000, 1502316644000, 1502316819000, 1...  "
            ]
          },
          "metadata": {
            "tags": []
          },
          "execution_count": 29
        }
      ]
    },
    {
      "cell_type": "code",
      "metadata": {
        "id": "4gZT9c0jrf-v",
        "colab_type": "code",
        "colab": {}
      },
      "source": [
        "# Data preparation, finding the number of paid users and total number of users for each category\n",
        "category_paid = defaultdict(int)\n",
        "category_total = defaultdict(int)\n",
        "for i in range(mydata.shape[0]):\n",
        "    for cat in mydata.iloc[i,0].split(','):\n",
        "        if mydata.iloc[i,3]:\n",
        "            category_paid[cat] += 1\n",
        "        category_total[cat] += 1"
      ],
      "execution_count": 0,
      "outputs": []
    },
    {
      "cell_type": "code",
      "metadata": {
        "id": "VSrUBpCSrf-x",
        "colab_type": "code",
        "colab": {}
      },
      "source": [
        "# Calculate the ratio of paid users for each category\n",
        "category_ratio = {}\n",
        "for key in category_paid:\n",
        "    category_ratio[key] = category_paid[key]/category_total[key]"
      ],
      "execution_count": 0,
      "outputs": []
    },
    {
      "cell_type": "code",
      "metadata": {
        "id": "7aYgszGsrf-z",
        "colab_type": "code",
        "colab": {},
        "outputId": "4e6458b6-39f6-43a1-a14e-ef479d78e853"
      },
      "source": [
        "category_ratio"
      ],
      "execution_count": 0,
      "outputs": [
        {
          "output_type": "execute_result",
          "data": {
            "text/plain": [
              "{' ACTblog': 0.00816326530612245,\n",
              " ' Affiliate': 0.13725490196078433,\n",
              " ' Facebook': 0.017488076311605722,\n",
              " ' HSblog': 0.2857142857142857,\n",
              " ' MagooshHSBlog': 0.010309278350515464,\n",
              " ' PracticeTestPDF': 0.007716049382716049,\n",
              " ' SAThome': 0.011764705882352941,\n",
              " ' act prep app': 0.028237585199610515,\n",
              " ' actblog': 0.02526315789473684,\n",
              " ' actprep': 0.024054982817869417,\n",
              " ' app': 0.043821391484942886,\n",
              " ' blog': 0.0191981735791622,\n",
              " ' branded search': 0.11705263157894737,\n",
              " ' direct': 0.06477272727272727,\n",
              " ' email': 0.12552693208430912,\n",
              " ' facebook ads': 0.02051983584131327,\n",
              " ' greblog': 1.0,\n",
              " ' instagram': 0.75,\n",
              " ' lessons_app': 0.09433962264150944,\n",
              " ' magoosh com': 0.12783560181478515,\n",
              " ' non branded search': 0.04794520547945205,\n",
              " ' non provided search': 0.058497555643275745,\n",
              " ' paid search': 0.07394302304481945,\n",
              " ' sem': 0.05555555555555555,\n",
              " 'Affiliate': 0.004291845493562232,\n",
              " 'actblog': 0.2,\n",
              " 'app': 0.0075307173999207295,\n",
              " 'blog': 0.0073957150964812715,\n",
              " 'branded search': 0.04134231011992426,\n",
              " 'direct': 0.009197751660705161,\n",
              " 'email': 0.01905972045743329,\n",
              " 'facebook ads': 0.002745995423340961,\n",
              " 'ieltsblog': 1.0,\n",
              " 'lessons_app': 1.0,\n",
              " 'magoosh com': 0.023696682464454975,\n",
              " 'non branded search': 0.011363636363636364,\n",
              " 'non provided search': 0.015422021535255298,\n",
              " 'paid search': 0.01815731049793847}"
            ]
          },
          "metadata": {
            "tags": []
          },
          "execution_count": 30
        }
      ]
    },
    {
      "cell_type": "code",
      "metadata": {
        "id": "queA4yJ6rf-1",
        "colab_type": "code",
        "colab": {},
        "outputId": "eec30609-deeb-41e8-d5be-25007b8057a6"
      },
      "source": [
        "# sort the categories based on ratio and plot them\n",
        "\n",
        "paid = pd.Series(category_ratio)\n",
        "paid.sort_values(ascending =False).plot(kind='bar', figsize=(15,7))\n",
        "plt.xlabel('Category')\n",
        "plt.ylabel('% of Become Paid User')"
      ],
      "execution_count": 0,
      "outputs": [
        {
          "output_type": "execute_result",
          "data": {
            "text/plain": [
              "Text(0,0.5,'% of Become Paid User')"
            ]
          },
          "metadata": {
            "tags": []
          },
          "execution_count": 28
        },
        {
          "output_type": "display_data",
          "data": {
            "image/png": "[encoded data removed]",
            "text/plain": [
              "<matplotlib.figure.Figure at 0x10773d240>"
            ]
          },
          "metadata": {
            "tags": []
          }
        }
      ]
    },
    {
      "cell_type": "code",
      "metadata": {
        "id": "naOeheuarf-3",
        "colab_type": "code",
        "colab": {}
      },
      "source": [
        ""
      ],
      "execution_count": 0,
      "outputs": []
    }
  ]
}