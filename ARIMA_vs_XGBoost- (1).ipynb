{
 "cells": [
  {
   "cell_type": "markdown",
   "metadata": {
    "colab_type": "text",
    "id": "l9lAXW4O6T8S"
   },
   "source": [
    "# ARIMA MODEL FOR PARTNER BOOKINGS PREDICTIONS\n"
   ]
  },
  {
   "cell_type": "code",
   "execution_count": 0,
   "metadata": {
    "colab": {},
    "colab_type": "code",
    "collapsed": true,
    "id": "jP4TXJ8e6T8U"
   },
   "outputs": [],
   "source": [
    "%matplotlib inline\n",
    "import matplotlib.pyplot as plt\n",
    "import numpy as np\n",
    "import pandas as pd\n",
    "from operator import itemgetter\n",
    "import scipy.stats as st\n",
    "from statsmodels.tsa import stattools as stt\n",
    "from statsmodels import tsa\n",
    "import statsmodels.api as smapi\n",
    "import datetime\n",
    "from pandas.core import datetools\n",
    "from statsmodels.tsa.stattools import adfuller\n",
    "from colabtools import dremel\n",
    "dateparse = lambda d: pd.datetime.strptime(d, '%Y/%m/%d')  "
   ]
  },
  {
   "cell_type": "code",
   "execution_count": 0,
   "metadata": {
    "colab": {},
    "colab_type": "code",
    "collapsed": true,
    "id": "rRg4BmT96T8d"
   },
   "outputs": [],
   "source": [
    "snapchat_billings.dtypes"
   ]
  },
  {
   "cell_type": "code",
   "execution_count": 0,
   "metadata": {
    "colab": {},
    "colab_type": "code",
    "collapsed": true,
    "id": "oHBJFaVt1H-A"
   },
   "outputs": [],
   "source": [
    "snapchat_billings.set_index('scp_customer_entity_name')['gcp_billings']"
   ]
  },
  {
   "cell_type": "code",
   "execution_count": 0,
   "metadata": {
    "colab": {},
    "colab_type": "code",
    "collapsed": true,
    "id": "iBd_c5UT6T8k"
   },
   "outputs": [],
   "source": [
    "def is_stationary(df, maxlag=12, autolag=None, regression='ct'):\n",
    "    \"\"\"Run the Augmented Dickey-Fuller test from statsmodels\n",
    "    and print output.\n",
    "    \"\"\"\n",
    "    outpt = stt.adfuller(df,maxlag=maxlag, autolag=autolag,\n",
    "                            regression=regression)\n",
    "    print('adf\\t\\t {0:.3f}'.format(outpt[0]))\n",
    "    print('p\\t\\t {0:.3g}'.format(outpt[1]))\n",
    "    print('crit. val.\\t 1%: {0:.3f}, \\\n",
    "5%: {1:.3f}, 10%: {2:.3f}'.format(outpt[4][\"1%\"], \n",
    "                                     outpt[4][\"5%\"], outpt[4][\"10%\"]))\n",
    "    print('stationary?\\t {0}'.format(['true', 'false']\\\n",
    "                                   [outpt[0]>outpt[4]['5%']]))\n",
    "    return outpt"
   ]
  },
  {
   "cell_type": "code",
   "execution_count": 0,
   "metadata": {
    "colab": {},
    "colab_type": "code",
    "collapsed": true,
    "id": "Cs0gDHjJ6T8m"
   },
   "outputs": [],
   "source": [
    "def despine(axs):\n",
    "    # to be able to handle subplot grids\n",
    "    # it assumes the input is a list of \n",
    "    # axes instances, if it is not a list, \n",
    "    # it puts it in one\n",
    "    if type(axs) != type([]):\n",
    "        axs = [axs]\n",
    "    for ax in axs:\n",
    "        ax.yaxis.set_ticks_position('left')\n",
    "        ax.xaxis.set_ticks_position('bottom')\n",
    "        ax.spines['bottom'].set_position(('outward', 10))\n",
    "        ax.spines['left'].set_position(('outward', 10))"
   ]
  },
  {
   "cell_type": "code",
   "execution_count": 0,
   "metadata": {
    "colab": {},
    "colab_type": "code",
    "collapsed": true,
    "id": "CQ-f0T_-1lff"
   },
   "outputs": [],
   "source": [
    "billings_series = pd.Series(snapchat_billings['gcp_billings'], index=snapchat_billings.index)"
   ]
  },
  {
   "cell_type": "code",
   "execution_count": 0,
   "metadata": {
    "colab": {},
    "colab_type": "code",
    "collapsed": true,
    "id": "MmaMq2b66T8i"
   },
   "outputs": [],
   "source": [
    "s_test = adfuller(billings_series, maxlag=12, autolag= None,regression='ct')\n",
    "# extract p value from test results, try with autolag= 'aic'\n",
    "print(\"p value > 0.05 means data is non-stationary: \", s_test[1])"
   ]
  },
  {
   "cell_type": "code",
   "execution_count": 0,
   "metadata": {
    "colab": {},
    "colab_type": "code",
    "collapsed": true,
    "id": "kl9oE4oY2NAk"
   },
   "outputs": [],
   "source": [
    "snapchat= snapchat_billings.set_index('month_date')['gcp_billings']"
   ]
  },
  {
   "cell_type": "code",
   "execution_count": 0,
   "metadata": {
    "colab": {},
    "colab_type": "code",
    "collapsed": true,
    "id": "5JgdHydK2VpB"
   },
   "outputs": [],
   "source": [
    "snapchat.index"
   ]
  },
  {
   "cell_type": "code",
   "execution_count": 0,
   "metadata": {
    "colab": {},
    "colab_type": "code",
    "collapsed": true,
    "id": "3foaU7XU6T8w"
   },
   "outputs": [],
   "source": [
    "plt.plot(snapchat)\n",
    "despine(plt.gca())\n",
    "plt.gcf().autofmt_xdate()\n",
    "plt.xlabel('booking_month')\n",
    "plt.ylabel('Snapchat, Inc.')\n",
    "plt.xlim('2016','2019')\n",
    "plt.title('Snapchat Billings');"
   ]
  },
  {
   "cell_type": "code",
   "execution_count": 0,
   "metadata": {
    "colab": {},
    "colab_type": "code",
    "collapsed": true,
    "id": "27_fAHGg6T8z"
   },
   "outputs": [],
   "source": [
    "is_stationary(snapchat);\n"
   ]
  },
  {
   "cell_type": "code",
   "execution_count": 0,
   "metadata": {
    "colab": {},
    "colab_type": "code",
    "collapsed": true,
    "id": "Zmm6fPO7bak4"
   },
   "outputs": [],
   "source": [
    "sc= snapchat_billings.set_index('month_date')['gcp_billings']\n",
    "training, testing = train_test_split(sc, test_size=0.33, random_state=42)"
   ]
  },
  {
   "cell_type": "code",
   "execution_count": 0,
   "metadata": {
    "colab": {},
    "colab_type": "code",
    "collapsed": true,
    "id": "WMNFZy5-cUeq"
   },
   "outputs": [],
   "source": [
    "testing"
   ]
  },
  {
   "cell_type": "code",
   "execution_count": 0,
   "metadata": {
    "colab": {},
    "colab_type": "code",
    "collapsed": true,
    "id": "xcSnLgOxcSkH"
   },
   "outputs": [],
   "source": [
    "sc = training.copy()"
   ]
  },
  {
   "cell_type": "markdown",
   "metadata": {
    "colab_type": "text",
    "id": "stWpxjt46T82"
   },
   "source": [
    "# Step 1: Removing Stationarity- "
   ]
  },
  {
   "cell_type": "markdown",
   "metadata": {
    "colab_type": "text",
    "id": "ysJgweYf4Ghd"
   },
   "source": [
    "## Differencing"
   ]
  },
  {
   "cell_type": "code",
   "execution_count": 0,
   "metadata": {
    "colab": {},
    "colab_type": "code",
    "collapsed": true,
    "id": "uvkHgkZE4Jbe"
   },
   "outputs": [],
   "source": [
    "snapchat.diff(1).plot(label='1 period', title='Snapchat Billings') \n",
    "plt.legend(loc='best') \n",
    "despine(plt.gca())"
   ]
  },
  {
   "cell_type": "code",
   "execution_count": 0,
   "metadata": {
    "colab": {},
    "colab_type": "code",
    "collapsed": true,
    "id": "YH8B-t1U4MwB"
   },
   "outputs": [],
   "source": [
    "is_stationary(snapchat.diff(1).dropna()) "
   ]
  },
  {
   "cell_type": "code",
   "execution_count": 0,
   "metadata": {
    "colab": {},
    "colab_type": "code",
    "collapsed": true,
    "id": "tyyCpbno4n7r"
   },
   "outputs": [],
   "source": [
    "snapchat.diff(1).plot(label='1 period', title='Snapchat', \n",
    "                      dashes=(15,5)) \n",
    "snapchat.diff(1).diff(12).plot(label='1 and 12 period(s)', \n",
    "                               color='Coral') \n",
    "plt.legend(loc='best') \n",
    "despine(plt.gca()) \n",
    "plt.xlabel('Date')"
   ]
  },
  {
   "cell_type": "code",
   "execution_count": 0,
   "metadata": {
    "colab": {},
    "colab_type": "code",
    "collapsed": true,
    "id": "_XEh-J8r4xAJ"
   },
   "outputs": [],
   "source": [
    "is_stationary(snapchat.diff(1).diff(12).dropna()); \n"
   ]
  },
  {
   "cell_type": "code",
   "execution_count": 0,
   "metadata": {
    "colab": {},
    "colab_type": "code",
    "collapsed": true,
    "id": "GWHFcLx94z8f"
   },
   "outputs": [],
   "source": [
    "is_stationary((snapchat-snapchat_seasonal).diff(1).dropna()); \n"
   ]
  },
  {
   "cell_type": "code",
   "execution_count": 0,
   "metadata": {
    "colab": {},
    "colab_type": "code",
    "collapsed": true,
    "id": "Kzm9i-8O7XRq"
   },
   "outputs": [],
   "source": []
  },
  {
   "cell_type": "markdown",
   "metadata": {
    "colab_type": "text",
    "id": "9_087hfw_79Q"
   },
   "source": [
    "**Log Transformation**"
   ]
  },
  {
   "cell_type": "code",
   "execution_count": 0,
   "metadata": {
    "colab": {},
    "colab_type": "code",
    "collapsed": true,
    "id": "eyqKrDsJ7XWw"
   },
   "outputs": [],
   "source": [
    "log_series = np.log(snapchat)\n",
    "log_series_shift = log_series - log_series.shift()\n",
    "#log_series_shift = log_series_shift[∼np.isnan(log_series_shift)]\n",
    "\n",
    "log_series_shift= log_series_shift.dropna()\n",
    "\n",
    "is_stationary(log_series_shift);"
   ]
  },
  {
   "cell_type": "code",
   "execution_count": 0,
   "metadata": {
    "colab": {},
    "colab_type": "code",
    "collapsed": true,
    "id": "_mT91awT_Np_"
   },
   "outputs": [],
   "source": [
    "snapchat.values"
   ]
  },
  {
   "cell_type": "code",
   "execution_count": 0,
   "metadata": {
    "colab": {},
    "colab_type": "code",
    "collapsed": true,
    "id": "lrvLXwqA_Nm4"
   },
   "outputs": [],
   "source": [
    "snapchat['z_data'] = (snapchat.values - snapchat.rolling(window=12).mean()) / snapchat.rolling(window=12).std()\n",
    "snapchat['zp_data'] = snapchat['z_data'] - snapchat['z_data'].shift(12)"
   ]
  },
  {
   "cell_type": "code",
   "execution_count": 0,
   "metadata": {
    "colab": {},
    "colab_type": "code",
    "collapsed": true,
    "id": "7xTSxZ6x_Njh"
   },
   "outputs": [],
   "source": [
    "snapchat.index"
   ]
  },
  {
   "cell_type": "code",
   "execution_count": 0,
   "metadata": {
    "colab": {},
    "colab_type": "code",
    "collapsed": true,
    "id": "6C_QHSk7BwBt"
   },
   "outputs": [],
   "source": [
    "adfuller(snapchat.z_data.dropna(), autolag='AIC', regression='ct')"
   ]
  },
  {
   "cell_type": "code",
   "execution_count": 0,
   "metadata": {
    "colab": {},
    "colab_type": "code",
    "collapsed": true,
    "id": "4O9lurrXB8Ur"
   },
   "outputs": [],
   "source": [
    "adfuller(snapchat.zp_data.dropna(), autolag='AIC', regression='ct')"
   ]
  },
  {
   "cell_type": "code",
   "execution_count": 0,
   "metadata": {
    "colab": {},
    "colab_type": "code",
    "collapsed": true,
    "id": "Q1uuvWDLCmYc"
   },
   "outputs": [],
   "source": [
    "is_stationary(snapchat.zp_data.dropna(), autolag='AIC', regression='ct')"
   ]
  },
  {
   "cell_type": "code",
   "execution_count": 0,
   "metadata": {
    "colab": {},
    "colab_type": "code",
    "collapsed": true,
    "id": "bZ7-22zKB8Ne"
   },
   "outputs": [],
   "source": [
    "is_stationary(snapchat.z_data.dropna(), autolag='AIC', regression='ct')"
   ]
  },
  {
   "cell_type": "code",
   "execution_count": 0,
   "metadata": {
    "colab": {},
    "colab_type": "code",
    "collapsed": true,
    "id": "ReTh-EwHAbfb"
   },
   "outputs": [],
   "source": []
  },
  {
   "cell_type": "code",
   "execution_count": 0,
   "metadata": {
    "colab": {},
    "colab_type": "code",
    "collapsed": true,
    "id": "4jn8iE8IKOLR"
   },
   "outputs": [],
   "source": [
    "sc= snapchat_billings.set_index('month_date')['gcp_billings']\n",
    "sc_log = np.log(sc)\n",
    "moving_avg = pd.rolling_mean(sc_log,12)\n",
    "sc_log_moving_avg_diff = sc_log - moving_avg\n",
    "sc_log_moving_avg_diff.dropna(inplace=True)"
   ]
  },
  {
   "cell_type": "code",
   "execution_count": 0,
   "metadata": {
    "colab": {},
    "colab_type": "code",
    "collapsed": true,
    "id": "KqfC_EGfNjVq"
   },
   "outputs": [],
   "source": [
    "is_stationary(sc_log_moving_avg_diff)"
   ]
  },
  {
   "cell_type": "code",
   "execution_count": 0,
   "metadata": {
    "colab": {},
    "colab_type": "code",
    "collapsed": true,
    "id": "3X97syS-WXI6"
   },
   "outputs": [],
   "source": []
  },
  {
   "cell_type": "code",
   "execution_count": 0,
   "metadata": {
    "colab": {},
    "colab_type": "code",
    "collapsed": true,
    "id": "sa-XK5OMNjb1"
   },
   "outputs": [],
   "source": [
    "test=check_stationary(sc_log_moving_avg_diff)"
   ]
  },
  {
   "cell_type": "code",
   "execution_count": 0,
   "metadata": {
    "colab": {},
    "colab_type": "code",
    "collapsed": true,
    "id": "oUmV-jkCQotK"
   },
   "outputs": [],
   "source": [
    "def check_stationary(df, maxlag=12, autolag='AIC', regression='ct'):\n",
    "    \"\"\"Run the Augmented Dickey-Fuller test from statsmodels\n",
    "    and print output.\n",
    "    \"\"\"\n",
    "    outpt = stt.adfuller(df, maxlag = maxlag, autolag=autolag, regression=regression)\n",
    "    adf = outpt[0]\n",
    "    p= outpt[1]\n",
    "    crit_val= outpt[4][\"1%\"], outpt[4][\"5%\"], outpt[4][\"10%\"]\n",
    "    stationary= ['true', 'false'][outpt[0]>outpt[4]['5%']]\n",
    "    return adf, p, crit_val, stationary"
   ]
  },
  {
   "cell_type": "code",
   "execution_count": 0,
   "metadata": {
    "colab": {},
    "colab_type": "code",
    "collapsed": true,
    "id": "3gz_NjGGNjZg"
   },
   "outputs": [],
   "source": [
    "def stationarize(snapchat_billings):\n",
    "  sc= snapchat_billings.set_index('month_date')['gcp_billings']\n",
    "  \n",
    "  stat_dict ={}\n",
    "  #Method 1:\n",
    "  sc_log = np.log(sc)\n",
    "  moving_avg = pd.rolling_mean(sc_log,12)\n",
    "  sc_log_moving_avg_diff = sc_log - moving_avg\n",
    "  sc_log_moving_avg_diff.dropna(inplace=True)\n",
    "  test=check_stationary(sc_log_moving_avg_diff)\n",
    "  p1= test[1]\n",
    "  stat_dict.update( {'sc_log_moving_avg_diff' : p1} )\n",
    "  \n",
    "  #Method4 Decomposing:\n",
    "  snapchat_decomp = seasonal_decompose(sc, freq=12)\n",
    "  snapchat_trend = snapchat_decomp.trend\n",
    "  snapchat_seasonal = snapchat_decomp.seasonal\n",
    "  snapchat_residual = snapchat_decomp.resid\n",
    "  snapchat_residual.dropna(inplace=True)\n",
    "  test6=check_stationary(snapchat_residual.dropna());\n",
    "  p6= test6[1]\n",
    "  stat_dict.update( {'snapchat_residual' : p6} )\n",
    "  \n",
    "  #Method2 Differencing:\n",
    "  test2= check_stationary(sc.diff(1).dropna()) \n",
    "  p2= test2[1]\n",
    "  \n",
    "  test3= check_stationary(sc.diff(1).diff(12).dropna()); \n",
    "  p3= test3[1]\n",
    "  \n",
    "  test4= check_stationary((sc-snapchat_seasonal).diff(1).dropna()); \n",
    "  p4= test4[1]\n",
    "  \n",
    "  #stat_dict.update( {'snapchat_residual' : p6} )\n",
    "  stat_dict.update([ ('sc.diff(1)', p2) , ('sc.diff(1).diff(12)', p3) , ('(sc-snapchat_seasonal).diff(1)', p4)] )\n",
    "  \n",
    "  #Method3 Log Transformation (using shift):\n",
    "  log_series = np.log(sc)\n",
    "  log_series_shift = log_series - log_series.shift()\n",
    "  log_series_shift= log_series_shift.dropna()\n",
    "  test5 = check_stationary(log_series_shift)\n",
    "  p5 = test5[1]\n",
    "  \n",
    "  stat_dict.update( {'log_series_shift' : p5} )\n",
    "  \n",
    "  #Method 5 Eliminating trend and seasonality: Seasonal Differencing\n",
    "  sc_first_difference = sc - sc.shift(1) \n",
    "  test7= check_stationary(sc_first_difference.dropna(inplace=False))\n",
    "  p7= test7[1]\n",
    "  \n",
    "  sc_seasonal_difference = sc - sc.shift(12)  \n",
    "  test8= check_stationary(sc_seasonal_difference.dropna(inplace=False))\n",
    "  p8= test8[1]\n",
    "  \n",
    "  sc_seasonal_first_difference = sc_first_difference - sc_first_difference.shift(12)  \n",
    "  test9= check_stationary(sc_seasonal_first_difference.dropna(inplace=False))\n",
    "  p9= test9[1]\n",
    "  \n",
    "  stat_dict.update([ ('sc_first_difference', p7) , ('sc_seasonal_difference', p8) , ('sc_seasonal_first_difference', p9)] )\n",
    "  \n",
    "  d= min(stat_dict.iteritems(), key=itemgetter(1))\n",
    "  print('Best Method: {} p-value = {}'.format(d[0], d[1]))\n",
    "  \n",
    "  return eval(min(stat_dict.iteritems(), key=itemgetter(1))[0])\n",
    "  \n",
    "  "
   ]
  },
  {
   "cell_type": "code",
   "execution_count": 0,
   "metadata": {
    "colab": {},
    "colab_type": "code",
    "collapsed": true,
    "id": "x9TYzumh2M_w"
   },
   "outputs": [],
   "source": [
    "# methods = ['sc_log_moving_avg_diff','snapchat_residual', 'Differencing 1', \\\n",
    "#            'Differencing 1 & 12','Differencing sc-snapchat_seasonal',      \\\n",
    "#            'log_series_shift','sc_first_difference','sc_seasonal_difference']\n",
    "\n",
    "# p_values= [1,2,3,4,5,6,7,8,9]\n",
    "\n",
    "# for n in range(len(methods)):\n",
    "#   print ('Method: {} achieved P-Value: {}').format(methods[n], p_values[n])\n",
    "\n",
    "#   methods = ['sc_log_moving_avg_diff','snapchat_residual', 'Differencing 1', \\\n",
    "#              'Differencing 1 & 12','Differencing sc-snapchat_seasonal',      \\\n",
    "#              'log_series_shift','sc_first_difference','sc_seasonal_difference']\n",
    "  \n",
    "#   for p, m in zip([p1,p2,p3,p4,p5,p6,p7,p8,p9], methods):\n",
    "#     print ('Method: {} achieved P-Value: {}').format(m,p)\n",
    "#     if p.min():\n",
    "#       print m,p\n",
    "  \n",
    "#   return min(p1,p2,p3,p4,p5,p6,p7,p8,p9)"
   ]
  },
  {
   "cell_type": "code",
   "execution_count": 0,
   "metadata": {
    "colab": {},
    "colab_type": "code",
    "collapsed": true,
    "id": "rpz49RgOUgmB"
   },
   "outputs": [],
   "source": [
    "stationarize(snapchat_billings)"
   ]
  },
  {
   "cell_type": "code",
   "execution_count": 0,
   "metadata": {
    "colab": {},
    "colab_type": "code",
    "collapsed": true,
    "id": "oZEc9brMhxPe"
   },
   "outputs": [],
   "source": [
    "from statsmodels.tsa.arima_process import arma_generate_sample\n",
    "import statsmodels.api as sm\n",
    "import numpy as np"
   ]
  },
  {
   "cell_type": "code",
   "execution_count": 0,
   "metadata": {
    "colab": {},
    "colab_type": "code",
    "collapsed": true,
    "id": "-eklXqXBjtjY"
   },
   "outputs": [],
   "source": [
    "train= (sc-snapchat_seasonal).diff(1).dropna()"
   ]
  },
  {
   "cell_type": "code",
   "execution_count": 0,
   "metadata": {
    "colab": {},
    "colab_type": "code",
    "collapsed": true,
    "id": "5SLa41WfXFCQ"
   },
   "outputs": [],
   "source": [
    "res = sm.tsa.arma_order_select_ic(train, ic=['aic', 'bic'], trend='nc')\n",
    "res.aic_min_order\n",
    "res.bic_min_order"
   ]
  },
  {
   "cell_type": "code",
   "execution_count": 0,
   "metadata": {
    "colab": {},
    "colab_type": "code",
    "collapsed": true,
    "id": "jksG5D5mlGFe"
   },
   "outputs": [],
   "source": [
    "train=train.astype(np.int)"
   ]
  },
  {
   "cell_type": "code",
   "execution_count": 0,
   "metadata": {
    "colab": {},
    "colab_type": "code",
    "collapsed": true,
    "id": "0d1q4O4GngKw"
   },
   "outputs": [],
   "source": [
    "train"
   ]
  },
  {
   "cell_type": "code",
   "execution_count": 0,
   "metadata": {
    "colab": {},
    "colab_type": "code",
    "collapsed": true,
    "id": "N6B_gTnPkWbi"
   },
   "outputs": [],
   "source": [
    "model = ARIMA(sc, order=(1,1,0))  \n",
    "snapchat_model = model.fit()\n",
    "\n",
    "snapchat_model.plot_predict(start='2016-12-01', end='2022-01-01', alpha=.10)\n",
    "despine(plt.gca()) \n",
    "plt.xlabel('Year')\n",
    "plt.legend(loc='upper left');\n",
    "\n",
    "print(snapchat_model.aic, snapchat_model.bic)\n",
    "\n",
    "snapchat_model.predict(start='2016-02-01', end='2020-01-01',typ='levels')\n",
    "\n",
    "#model_1predictions= snapchat_model.predict(start='2016-12-01', end='2020-01-01',typ='levels')\n",
    "\n",
    "# forecast_accuracy=(((((fullsales - model_1predictions) / fullsales) * 100).abs())-100).abs()\n",
    "# forecast_accuracy['2016-12-01':'2018-06-01']"
   ]
  },
  {
   "cell_type": "code",
   "execution_count": 0,
   "metadata": {
    "colab": {},
    "colab_type": "code",
    "collapsed": true,
    "id": "p7qVlCDDkWYA"
   },
   "outputs": [],
   "source": []
  },
  {
   "cell_type": "markdown",
   "metadata": {
    "colab_type": "text",
    "id": "HCR4tsc-4NNN"
   },
   "source": [
    "## Decomposing components"
   ]
  },
  {
   "cell_type": "code",
   "execution_count": 0,
   "metadata": {
    "colab": {},
    "colab_type": "code",
    "collapsed": true,
    "id": "v-0NBLeS6T82"
   },
   "outputs": [],
   "source": [
    "from statsmodels.tsa.seasonal import seasonal_decompose\n",
    "snapchat_decomp = seasonal_decompose(snapchat, freq=12)"
   ]
  },
  {
   "cell_type": "code",
   "execution_count": 0,
   "metadata": {
    "colab": {},
    "colab_type": "code",
    "collapsed": true,
    "id": "IjfIRYky6T84"
   },
   "outputs": [],
   "source": [
    "snapchat_trend = snapchat_decomp.trend\n",
    "snapchat_seasonal = snapchat_decomp.seasonal\n",
    "snapchat_residual = snapchat_decomp.resid"
   ]
  },
  {
   "cell_type": "code",
   "execution_count": 0,
   "metadata": {
    "colab": {},
    "colab_type": "code",
    "collapsed": true,
    "id": "cxPYghyH6T86"
   },
   "outputs": [],
   "source": [
    "def change_plot(ax):\n",
    "    despine(ax)\n",
    "    ax.locator_params(axis='y', nbins=5)\n",
    "    plt.setp(ax.get_xticklabels(), rotation=90, ha='center')\n",
    "\n",
    "plt.figure(figsize=(9,4.5))\n",
    "\n",
    "plt.subplot(221)\n",
    "plt.plot(snapchat, color='Green')\n",
    "change_plot(plt.gca())\n",
    "plt.title('snapchat', color='Green')\n",
    "xl = plt.xlim()\n",
    "yl = plt.ylim()\n",
    "\n",
    "plt.subplot(222)\n",
    "plt.plot(snapchat.index,snapchat_trend, \n",
    "         color='Coral')\n",
    "change_plot(plt.gca())\n",
    "plt.title('Trend', color='Coral')\n",
    "plt.gca().yaxis.tick_right()\n",
    "plt.gca().yaxis.set_label_position(\"right\")\n",
    "plt.xlim(xl)\n",
    "plt.ylim(yl)\n",
    "\n",
    "plt.subplot(223)\n",
    "plt.plot(snapchat.index,snapchat_seasonal, \n",
    "         color='SteelBlue')\n",
    "change_plot(plt.gca())\n",
    "plt.gca().xaxis.tick_top()\n",
    "plt.gca().xaxis.set_major_formatter(plt.NullFormatter())\n",
    "plt.xlabel('Seasonality', color='SteelBlue', labelpad=-20)\n",
    "plt.xlim(xl)\n",
    "plt.ylim((-8000,8000))\n",
    "\n",
    "plt.subplot(224)\n",
    "plt.plot(snapchat.index,snapchat_residual,\n",
    "        color='IndianRed')\n",
    "change_plot(plt.gca())\n",
    "plt.xlim(xl)\n",
    "plt.gca().yaxis.tick_right()\n",
    "plt.gca().yaxis.set_label_position(\"right\")\n",
    "plt.gca().xaxis.tick_top()\n",
    "plt.gca().xaxis.set_major_formatter(plt.NullFormatter())\n",
    "plt.ylim((-8000,8000))\n",
    "plt.xlabel('Residuals', color='IndianRed', labelpad=-20)\n",
    "\n",
    "plt.tight_layout()\n",
    "plt.subplots_adjust(hspace=0.55)"
   ]
  },
  {
   "cell_type": "code",
   "execution_count": 0,
   "metadata": {
    "colab": {},
    "colab_type": "code",
    "collapsed": true,
    "id": "umF-2naO6T8-"
   },
   "outputs": [],
   "source": [
    "fig = plt.figure(figsize=(10,5) )\n",
    "\n",
    "ax1 = fig.add_axes([0.1,0.1,0.6,0.9])\n",
    "ax1.plot(snapchat-snapchat_trend, \n",
    "         color='Green', label='Detrended data')\n",
    "ax1.plot(snapchat_seasonal, \n",
    "         color='Coral', label='Seasonal component')\n",
    "kwrds=dict(lw=1.5, color='0.6', alpha=0.8)\n",
    "d1 = pd.datetime(2015,1,1)\n",
    "dd = pd.Timedelta('365 Days')\n",
    "[ax1.axvline(d1+dd*i, dashes=(3,5),**kwrds) for i in range(9)]\n",
    "d2 = pd.datetime(2015,3,1)\n",
    "[ax1.axvline(d2+dd*i, dashes=(2,2),**kwrds) for i in range(9)]\n",
    "ax1.set_ylim((-12000,10000))\n",
    "\n",
    "ax1.locator_params(axis='y', nbins=4)\n",
    "ax1.set_xlabel('Year')\n",
    "ax1.set_title('snapchat Seasonality')\n",
    "ax1.set_ylabel('snapchat')\n",
    "ax1.legend(loc=0, ncol=2, frameon=True);\n",
    "\n",
    "ax2 = fig.add_axes([0.8,0.1,0.4,0.9])\n",
    "ax2.plot(snapchat_seasonal['2015':'2018'], \n",
    "         color='Coral', label='Seasonal component')\n",
    "ax2.set_ylim((-12000,10000))\n",
    "[ax2.axvline(d1+dd*i, dashes=(3,5),**kwrds) for i in range(1)]\n",
    "d2 = pd.datetime(2015,3,1)\n",
    "[ax2.axvline(d2+dd*i, dashes=(2,2),**kwrds) for i in range(1)]\n",
    "despine([ax1, ax2])\n",
    "\n",
    "import matplotlib.dates as mpldates\n",
    "yrsfmt = mpldates.DateFormatter('%b')\n",
    "ax2.xaxis.set_major_formatter(yrsfmt)\n",
    "labels = ax2.get_xticklabels()\n",
    "plt.setp(labels, rotation=90);"
   ]
  },
  {
   "cell_type": "code",
   "execution_count": 0,
   "metadata": {
    "colab": {},
    "colab_type": "code",
    "collapsed": true,
    "id": "da9-7HBt6T9B"
   },
   "outputs": [],
   "source": [
    "snapchat_seasonal_component = snapchat_seasonal['2015'].values\n",
    "snapchat_seasonal_component"
   ]
  },
  {
   "cell_type": "code",
   "execution_count": 0,
   "metadata": {
    "colab": {},
    "colab_type": "code",
    "collapsed": true,
    "id": "PwTcJkSK6T9E"
   },
   "outputs": [],
   "source": [
    "snapchat_residual.dropna(inplace=True)\n",
    "is_stationary(snapchat_residual.dropna());"
   ]
  },
  {
   "cell_type": "code",
   "execution_count": 0,
   "metadata": {
    "colab": {},
    "colab_type": "code",
    "collapsed": true,
    "id": "TOvdeeMS6T9I"
   },
   "outputs": [],
   "source": [
    "snapchat_residual"
   ]
  },
  {
   "cell_type": "code",
   "execution_count": 0,
   "metadata": {
    "colab": {},
    "colab_type": "code",
    "collapsed": true,
    "id": "Wnmp9gdc6T9L"
   },
   "outputs": [],
   "source": [
    "loc, shape = st.norm.fit(snapchat_residual)\n",
    "x=range(-3000,3000)\n",
    "y = st.norm.pdf(x, loc, shape)\n",
    "n, bins, patches = plt.hist(snapchat_residual, bins=20, normed=True)\n",
    "plt.plot(x,y, color='Coral')\n",
    "despine(plt.gca())\n",
    "plt.title('Residuals')\n",
    "plt.xlabel('Value'); plt.ylabel('Counts');"
   ]
  },
  {
   "cell_type": "code",
   "execution_count": 0,
   "metadata": {
    "colab": {},
    "colab_type": "code",
    "collapsed": true,
    "id": "AvX3TuXT6T9N"
   },
   "outputs": [],
   "source": [
    "(osm,osr), (slope, intercept, r) = st.probplot(snapchat_residual, dist='norm', fit=True)\n",
    "line_func = lambda x: slope*x + intercept\n",
    "plt.plot(osm,osr,\n",
    "         '.', label='Data', color='Coral')\n",
    "plt.plot(osm, line_func(osm), \n",
    "         color='SteelBlue',\n",
    "         dashes=(20,5), label='Fit')\n",
    "plt.xlabel('Quantiles'); plt.ylabel('Ordered Values')\n",
    "despine(plt.gca())\n",
    "plt.text(1, -14, 'R$^2$={0:.3f}'.format(r))\n",
    "plt.title('Probability Plot')\n",
    "plt.legend(loc='best', numpoints=4, handlelength=4);"
   ]
  },
  {
   "cell_type": "code",
   "execution_count": 0,
   "metadata": {
    "colab": {},
    "colab_type": "code",
    "collapsed": true,
    "id": "UGnkvAaE6T9Q"
   },
   "outputs": [],
   "source": [
    "snapchat.diff(1).plot(label='1 period', title='Snapchat Billings')\n",
    "plt.legend(loc='best')\n",
    "despine(plt.gca())"
   ]
  },
  {
   "cell_type": "code",
   "execution_count": 0,
   "metadata": {
    "colab": {},
    "colab_type": "code",
    "collapsed": true,
    "id": "ASulbilF6T9U"
   },
   "outputs": [],
   "source": [
    "is_stationary(snapchat.diff(1).dropna());\n"
   ]
  },
  {
   "cell_type": "code",
   "execution_count": 0,
   "metadata": {
    "colab": {},
    "colab_type": "code",
    "collapsed": true,
    "id": "Nf3LMPMc6T9W"
   },
   "outputs": [],
   "source": [
    "sales.diff(1).plot(label='1 period', title='Partner sales',\n",
    "                      dashes=(15,5))\n",
    "sales.diff(1).diff(12).plot(label='1 and 12 period(s)',\n",
    "                               color='Coral')\n",
    "plt.legend(loc='best')\n",
    "despine(plt.gca())\n",
    "plt.xlabel('Date')"
   ]
  },
  {
   "cell_type": "code",
   "execution_count": 0,
   "metadata": {
    "colab": {},
    "colab_type": "code",
    "collapsed": true,
    "id": "sY5cf7HV6T9Z"
   },
   "outputs": [],
   "source": [
    "is_stationary(sales.diff(1).diff(12).dropna());\n"
   ]
  },
  {
   "cell_type": "code",
   "execution_count": 0,
   "metadata": {
    "colab": {},
    "colab_type": "code",
    "collapsed": true,
    "id": "yATm8DvY6T9b"
   },
   "outputs": [],
   "source": []
  },
  {
   "cell_type": "code",
   "execution_count": 0,
   "metadata": {
    "colab": {},
    "colab_type": "code",
    "collapsed": true,
    "id": "1-9eDZkk6T9c"
   },
   "outputs": [],
   "source": [
    "sales.diff(1).plot(label='1 period', title='Partner sales',\n",
    "                      dashes=(15,5))\n",
    "sales.diff(1).diff(12).plot(label='1 and 12 period(s)',\n",
    "                               color='Coral')\n",
    "plt.legend(loc='best')\n",
    "despine(plt.gca())\n",
    "plt.xlabel('Date')"
   ]
  },
  {
   "cell_type": "code",
   "execution_count": 0,
   "metadata": {
    "colab": {},
    "colab_type": "code",
    "collapsed": true,
    "id": "5o3gVN9M6T9g"
   },
   "outputs": [],
   "source": [
    "is_stationary(sales.diff(1).diff(12).dropna());\n"
   ]
  },
  {
   "cell_type": "code",
   "execution_count": 0,
   "metadata": {
    "colab": {},
    "colab_type": "code",
    "collapsed": true,
    "id": "jD4UYfof6T9j"
   },
   "outputs": [],
   "source": []
  },
  {
   "cell_type": "markdown",
   "metadata": {
    "colab_type": "text",
    "id": "8_f64jG06T9k"
   },
   "source": [
    "# Time series Models"
   ]
  },
  {
   "cell_type": "code",
   "execution_count": 0,
   "metadata": {
    "colab": {},
    "colab_type": "code",
    "collapsed": true,
    "id": "S3Lqy4Wz6T9l"
   },
   "outputs": [],
   "source": [
    "from statsmodels.tsa.arima_model import ARIMA\n"
   ]
  },
  {
   "cell_type": "code",
   "execution_count": 0,
   "metadata": {
    "colab": {},
    "colab_type": "code",
    "collapsed": true,
    "id": "ktOqnhoi6T9m"
   },
   "outputs": [],
   "source": [
    "is_stationary((sales-sales_seasonal).diff(1).dropna());\n"
   ]
  },
  {
   "cell_type": "code",
   "execution_count": 0,
   "metadata": {
    "colab": {},
    "colab_type": "code",
    "collapsed": true,
    "id": "2lQ75CIY6T9p"
   },
   "outputs": [],
   "source": [
    "ts = sales-sales_seasonal.dropna()\n",
    "tsdiff = ts.diff(1)"
   ]
  },
  {
   "cell_type": "code",
   "execution_count": 0,
   "metadata": {
    "colab": {},
    "colab_type": "code",
    "collapsed": true,
    "id": "ATv5jWkZ6T9q"
   },
   "outputs": [],
   "source": [
    "ts"
   ]
  },
  {
   "cell_type": "code",
   "execution_count": 0,
   "metadata": {
    "colab": {},
    "colab_type": "code",
    "collapsed": true,
    "id": "_uQDIQZk6T9u"
   },
   "outputs": [],
   "source": [
    "is_stationary((ts).dropna());\n"
   ]
  },
  {
   "cell_type": "code",
   "execution_count": 0,
   "metadata": {
    "colab": {},
    "colab_type": "code",
    "collapsed": true,
    "id": "mn4iXg4E6T9w"
   },
   "outputs": [],
   "source": [
    "is_stationary(ts);\n"
   ]
  },
  {
   "cell_type": "code",
   "execution_count": 0,
   "metadata": {
    "colab": {},
    "colab_type": "code",
    "collapsed": true,
    "id": "QER9_48i6T9y"
   },
   "outputs": [],
   "source": [
    "plt.plot(ts) # was tsdiff before this\n"
   ]
  },
  {
   "cell_type": "code",
   "execution_count": 0,
   "metadata": {
    "colab": {},
    "colab_type": "code",
    "collapsed": true,
    "id": "AHvuvBw76T90"
   },
   "outputs": [],
   "source": [
    "model = ARIMA(ts, order=(3, 1, 1))  \n",
    "arres = model.fit()"
   ]
  },
  {
   "cell_type": "code",
   "execution_count": 0,
   "metadata": {
    "colab": {},
    "colab_type": "code",
    "collapsed": true,
    "id": "cAou4LM26T92"
   },
   "outputs": [],
   "source": [
    "arres.plot_predict(start='2016-01-01', end='2018-08-01', alpha=0.10)\n",
    "plt.legend(loc='upper left')\n",
    "print(arres.aic, arres.bic)"
   ]
  },
  {
   "cell_type": "code",
   "execution_count": 0,
   "metadata": {
    "colab": {},
    "colab_type": "code",
    "collapsed": true,
    "id": "9Jc8g8EG6T95"
   },
   "outputs": [],
   "source": [
    "model = ARIMA(ts, order=(1, 1, 1))  \n",
    "mares = model.fit()"
   ]
  },
  {
   "cell_type": "markdown",
   "metadata": {
    "colab_type": "text",
    "id": "KIIt647ZL-tY"
   },
   "source": [
    "# AUTO SELECTING P , D , Q"
   ]
  },
  {
   "cell_type": "code",
   "execution_count": 0,
   "metadata": {
    "colab": {},
    "colab_type": "code",
    "collapsed": true,
    "id": "Juq06Z2hNBDi"
   },
   "outputs": [],
   "source": [
    "from colabtools import adhoc_import"
   ]
  },
  {
   "cell_type": "code",
   "execution_count": 0,
   "metadata": {
    "colab": {},
    "colab_type": "code",
    "collapsed": true,
    "id": "096XOLwxM53I"
   },
   "outputs": [],
   "source": [
    "with adhoc_import.Google3():\n",
    "  from google3.experimental.users.henrylee.py import more_ranklab_utils"
   ]
  },
  {
   "cell_type": "code",
   "execution_count": 0,
   "metadata": {
    "colab": {},
    "colab_type": "code",
    "collapsed": true,
    "id": "0H2DkZRLMDtT"
   },
   "outputs": [],
   "source": [
    "from statsmodels.tsa.arima_model import ARIMA\n",
    "import pmdarima as pm\n",
    "\n",
    "df = pd.read_csv('https://raw.githubusercontent.com/selva86/datasets/master/wwwusage.csv', names=['value'], header=0)\n",
    "\n",
    "model = pm.auto_arima(df.value, start_p=1, start_q=1,\n",
    "                      test='adf',       # use adftest to find optimal 'd'\n",
    "                      max_p=3, max_q=3, # maximum p and q\n",
    "                      m=1,              # frequency of series\n",
    "                      d=None,           # let model determine 'd'\n",
    "                      seasonal=False,   # No Seasonality\n",
    "                      start_P=0, \n",
    "                      D=0, \n",
    "                      trace=True,\n",
    "                      error_action='ignore',  \n",
    "                      suppress_warnings=True, \n",
    "                      stepwise=True)\n",
    "\n",
    "print(model.summary())"
   ]
  },
  {
   "cell_type": "markdown",
   "metadata": {
    "colab_type": "text",
    "id": "DzoM9dWg6T9-"
   },
   "source": [
    "# Selecting p and q"
   ]
  },
  {
   "cell_type": "code",
   "execution_count": 0,
   "metadata": {
    "colab": {},
    "colab_type": "code",
    "collapsed": true,
    "id": "V2UKnGSZ6T9_"
   },
   "outputs": [],
   "source": [
    "tsa.stattools.arma_order_select_ic(tsdiff.dropna(), max_ar=3, max_ma=3, ic='aic')\n"
   ]
  },
  {
   "cell_type": "code",
   "execution_count": 0,
   "metadata": {
    "colab": {},
    "colab_type": "code",
    "collapsed": true,
    "id": "AAxh4y3a6T-B"
   },
   "outputs": [],
   "source": [
    "tsa.stattools.arma_order_select_ic(tsdiff.dropna(), max_ar=3, max_ma=3, ic='bic')\n"
   ]
  },
  {
   "cell_type": "markdown",
   "metadata": {
    "colab_type": "text",
    "id": "yvNiAUFk6T-D"
   },
   "source": [
    "# Selecting p and q using sales_residual.dropna()\n"
   ]
  },
  {
   "cell_type": "code",
   "execution_count": 0,
   "metadata": {
    "colab": {},
    "colab_type": "code",
    "collapsed": true,
    "id": "P2reCVAN6T-D"
   },
   "outputs": [],
   "source": [
    "tsa.stattools.arma_order_select_ic(ts, max_ar=3, max_ma=3, ic='aic')\n"
   ]
  },
  {
   "cell_type": "code",
   "execution_count": 0,
   "metadata": {
    "colab": {},
    "colab_type": "code",
    "collapsed": true,
    "id": "jZ8MjmSq6T-F"
   },
   "outputs": [],
   "source": [
    "tsa.stattools.arma_order_select_ic(ts, max_ar=3, max_ma=3, ic='bic')\n"
   ]
  },
  {
   "cell_type": "markdown",
   "metadata": {
    "colab_type": "text",
    "id": "5Xf4XZ046T-I"
   },
   "source": [
    "# Selecting p and q using sales_residual.dropna()"
   ]
  },
  {
   "cell_type": "code",
   "execution_count": 0,
   "metadata": {
    "colab": {},
    "colab_type": "code",
    "collapsed": true,
    "id": "9YmHqD9p6T-J"
   },
   "outputs": [],
   "source": [
    "tsa.stattools.arma_order_select_ic(sales_residual.dropna(), max_ar=3, max_ma=3, ic='aic')\n"
   ]
  },
  {
   "cell_type": "code",
   "execution_count": 0,
   "metadata": {
    "colab": {},
    "colab_type": "code",
    "collapsed": true,
    "id": "hp8kOoM76T-K"
   },
   "outputs": [],
   "source": [
    "tsa.stattools.arma_order_select_ic(sales_residual.dropna(), max_ar=3, max_ma=3, ic='bic')\n"
   ]
  },
  {
   "cell_type": "code",
   "execution_count": 0,
   "metadata": {
    "colab": {},
    "colab_type": "code",
    "collapsed": true,
    "id": "hYuhCHW36T-R"
   },
   "outputs": [],
   "source": [
    "acf = stt.acf(ts, nlags=5)\n",
    "pacf = stt.pacf(ts, nlags=5)"
   ]
  },
  {
   "cell_type": "code",
   "execution_count": 0,
   "metadata": {
    "colab": {},
    "colab_type": "code",
    "collapsed": true,
    "id": "xY986D9E6T-S"
   },
   "outputs": [],
   "source": [
    "y=-1.96/np.sqrt(len(ts))\n",
    "y"
   ]
  },
  {
   "cell_type": "code",
   "execution_count": 0,
   "metadata": {
    "colab": {},
    "colab_type": "code",
    "collapsed": true,
    "id": "BHFTt-Zu6T-U"
   },
   "outputs": [],
   "source": [
    "fig, (ax1, ax2) = plt.subplots(1,2, figsize=(8,2))\n",
    "ax1.axhline(y=0,color='gray')\n",
    "ax1.axhline(y=-1.96/np.sqrt(len(ts)),linestyle='--',color='gray')\n",
    "ax1.axhline(y=1.96/np.sqrt(len(ts)),linestyle='--',color='gray')\n",
    "ax1.axvline(x=1,ls=':',color='gray')\n",
    "ax1.plot(acf)\n",
    "ax1.set_title('ACF')\n",
    "\n",
    "ax2.axhline(y=0,color='gray')\n",
    "ax2.axhline(y=-1.96/np.sqrt(len(ts)),linestyle='--',color='gray')\n",
    "ax2.axhline(y=1.96/np.sqrt(len(ts)),linestyle='--',color='gray')\n",
    "ax2.axvline(x=1,ls=':',color='gray')\n",
    "ax2.plot(pacf)\n",
    "ax2.set_title('PACF')\n",
    "\n",
    "despine([ax1,ax2])"
   ]
  },
  {
   "cell_type": "code",
   "execution_count": 0,
   "metadata": {
    "colab": {},
    "colab_type": "code",
    "collapsed": true,
    "id": "TuvepZ6C6T-W"
   },
   "outputs": [],
   "source": [
    "ts"
   ]
  },
  {
   "cell_type": "markdown",
   "metadata": {
    "colab_type": "text",
    "id": "GJWiR5BE6T-Z"
   },
   "source": [
    "# Autoregressive Integrated Moving Average – ARIMA\n"
   ]
  },
  {
   "cell_type": "code",
   "execution_count": 0,
   "metadata": {
    "colab": {},
    "colab_type": "code",
    "collapsed": true,
    "id": "1ADc7Wi36T-a"
   },
   "outputs": [],
   "source": [
    "fullsales = pd.read_excel('ML Trial.xlsx', sheet_name='Copy of ML TRIAL',\n",
    "                   parse_dates=['booking_month'], \n",
    "                   index_col='booking_month', \n",
    "                   )"
   ]
  },
  {
   "cell_type": "code",
   "execution_count": 0,
   "metadata": {
    "colab": {},
    "colab_type": "code",
    "collapsed": true,
    "id": "TWVy_aDm6T-c"
   },
   "outputs": [],
   "source": [
    "fullsales= fullsales['monthlybookings']"
   ]
  },
  {
   "cell_type": "code",
   "execution_count": 0,
   "metadata": {
    "colab": {},
    "colab_type": "code",
    "collapsed": true,
    "id": "iU8lo_HS6T-d"
   },
   "outputs": [],
   "source": [
    "fullsales"
   ]
  },
  {
   "cell_type": "code",
   "execution_count": 0,
   "metadata": {
    "colab": {},
    "colab_type": "code",
    "collapsed": true,
    "id": "gFdjwxyL6T-e"
   },
   "outputs": [],
   "source": [
    "model = ARIMA(ts, order=(0,1,1))  \n",
    "arimares = model.fit()"
   ]
  },
  {
   "cell_type": "code",
   "execution_count": 0,
   "metadata": {
    "colab": {},
    "colab_type": "code",
    "collapsed": true,
    "id": "v-yE2wBW6T-h"
   },
   "outputs": [],
   "source": [
    "arimares.plot_predict(start='2016-12-01', end='2020-01-01', alpha=.10)\n",
    "plt.legend(loc='upper left');\n",
    "print(arimares.aic, arimares.bic)"
   ]
  },
  {
   "cell_type": "code",
   "execution_count": 0,
   "metadata": {
    "colab": {},
    "colab_type": "code",
    "collapsed": true,
    "id": "wGJwvjYy6T-j"
   },
   "outputs": [],
   "source": [
    "arimares.predict(start='2016-12-01', end='2020-01-01',typ='levels')"
   ]
  },
  {
   "cell_type": "code",
   "execution_count": 0,
   "metadata": {
    "colab": {},
    "colab_type": "code",
    "collapsed": true,
    "id": "eCu58gTe6T-m"
   },
   "outputs": [],
   "source": [
    "model_1predictions= arimares.predict(start='2016-12-01', end='2020-01-01',typ='levels')"
   ]
  },
  {
   "cell_type": "code",
   "execution_count": 0,
   "metadata": {
    "colab": {},
    "colab_type": "code",
    "collapsed": true,
    "id": "nRM5vbHz6T-p"
   },
   "outputs": [],
   "source": [
    "forecast_accuracy=(((((fullsales - model_1predictions) / fullsales) * 100).abs())-100).abs()\n",
    "forecast_accuracy['2016-12-01':'2018-06-01']"
   ]
  },
  {
   "cell_type": "code",
   "execution_count": 0,
   "metadata": {
    "colab": {},
    "colab_type": "code",
    "collapsed": true,
    "id": "hSzICyrC6T-s"
   },
   "outputs": [],
   "source": [
    "model = ARIMA(ts, order=(0,2,1))  \n",
    "arimares = model.fit()"
   ]
  },
  {
   "cell_type": "code",
   "execution_count": 0,
   "metadata": {
    "colab": {},
    "colab_type": "code",
    "collapsed": true,
    "id": "FqlhELco6T-u"
   },
   "outputs": [],
   "source": [
    "arimares.plot_predict(start='2016-12-01', end='2020-01-01', alpha=.10)\n",
    "plt.legend(loc='upper left');\n",
    "print(arimares.aic, arimares.bic)"
   ]
  },
  {
   "cell_type": "code",
   "execution_count": 0,
   "metadata": {
    "colab": {},
    "colab_type": "code",
    "collapsed": true,
    "id": "swAIiqy66T-v"
   },
   "outputs": [],
   "source": [
    "arimares.predict(start='2016-12-01', end='2020-01-01',typ='levels')"
   ]
  },
  {
   "cell_type": "code",
   "execution_count": 0,
   "metadata": {
    "colab": {},
    "colab_type": "code",
    "collapsed": true,
    "id": "SQuTOz7g6T-x"
   },
   "outputs": [],
   "source": [
    "model_2predictions= arimares.predict(start='2016-12-01', end='2020-01-01',typ='levels')"
   ]
  },
  {
   "cell_type": "code",
   "execution_count": 0,
   "metadata": {
    "colab": {},
    "colab_type": "code",
    "collapsed": true,
    "id": "rX6LLkwO6T-z"
   },
   "outputs": [],
   "source": [
    "forecast_accuracy2=(((((fullsales - model_2predictions) / fullsales) * 100).abs())-100).abs()\n",
    "forecast_accuracy2['2016-12-01':'2018-06-01']"
   ]
  },
  {
   "cell_type": "code",
   "execution_count": 0,
   "metadata": {
    "colab": {},
    "colab_type": "code",
    "collapsed": true,
    "id": "MdgifjvQ6T-1"
   },
   "outputs": [],
   "source": [
    "fullsales"
   ]
  },
  {
   "cell_type": "code",
   "execution_count": 0,
   "metadata": {
    "colab": {},
    "colab_type": "code",
    "collapsed": true,
    "id": "Ah76hd-I6T-8"
   },
   "outputs": [],
   "source": [
    "model = ARIMA(ts, order=(0,2,1))  \n",
    "arimares = model.fit()"
   ]
  },
  {
   "cell_type": "code",
   "execution_count": 0,
   "metadata": {
    "colab": {},
    "colab_type": "code",
    "collapsed": true,
    "id": "pWI4AU5c6T-_"
   },
   "outputs": [],
   "source": [
    "arimares.plot_predict(start='2016-12-01', end='2020-01-01', alpha=.10)\n",
    "plt.legend(loc='upper left');\n",
    "print(arimares.aic, arimares.bic)"
   ]
  },
  {
   "cell_type": "code",
   "execution_count": 0,
   "metadata": {
    "colab": {},
    "colab_type": "code",
    "collapsed": true,
    "id": "4Tbrme4O6T_B"
   },
   "outputs": [],
   "source": [
    "arimares.predict(start='2016-12-01', end='2020-01-01',typ='levels')"
   ]
  },
  {
   "cell_type": "code",
   "execution_count": 0,
   "metadata": {
    "colab": {},
    "colab_type": "code",
    "collapsed": true,
    "id": "z8rL87vT6T_F"
   },
   "outputs": [],
   "source": [
    "model_3predictions=arimares.predict(start='2016-12-01', end='2020-01-01',typ='levels')"
   ]
  },
  {
   "cell_type": "code",
   "execution_count": 0,
   "metadata": {
    "colab": {},
    "colab_type": "code",
    "collapsed": true,
    "id": "B3HV0nAO6T_H"
   },
   "outputs": [],
   "source": [
    "forecast_accuracy3=(((((fullsales - model_3predictions) / fullsales) * 100).abs())-100).abs()\n",
    "forecast_accuracy3['2016-12-01':'2018-06-01']\n"
   ]
  },
  {
   "cell_type": "code",
   "execution_count": 0,
   "metadata": {
    "colab": {},
    "colab_type": "code",
    "collapsed": true,
    "id": "tbpe3vCE6T_I"
   },
   "outputs": [],
   "source": [
    "forecast_accuracypercents= forecast_accuracy3['2016-12-01':'2018-06-01']\n",
    "forecast_accuracypercents.shape"
   ]
  },
  {
   "cell_type": "markdown",
   "metadata": {
    "colab_type": "text",
    "id": "paeyn0UB6T_3"
   },
   "source": [
    "# Combined Model"
   ]
  },
  {
   "cell_type": "code",
   "execution_count": 0,
   "metadata": {
    "colab": {},
    "colab_type": "code",
    "collapsed": true,
    "id": "2W6UFfs06T_4",
    "scrolled": true
   },
   "outputs": [],
   "source": [
    "model = ARIMA(ts_log.dropna(), order=(0, 1, 1))  \n",
    "results_ARIMA = model.fit(disp=-1)  \n",
    "plt.plot(ts_log_diff)\n",
    "plt.plot(results_ARIMA.fittedvalues, color='red')\n",
    "plt.title('RSS: %.4f'% sum((results_ARIMA.fittedvalues-ts_log_diff)**2))"
   ]
  },
  {
   "cell_type": "code",
   "execution_count": 0,
   "metadata": {
    "colab": {},
    "colab_type": "code",
    "collapsed": true,
    "id": "2zR15BaX6T_-"
   },
   "outputs": [],
   "source": [
    "predictions_ARIMA_diff = pd.Series(results_ARIMA.fittedvalues, copy=True)\n",
    "predictions_ARIMA_diff.head()\n"
   ]
  },
  {
   "cell_type": "code",
   "execution_count": 0,
   "metadata": {
    "colab": {},
    "colab_type": "code",
    "collapsed": true,
    "id": "7V8BtD_J6T__"
   },
   "outputs": [],
   "source": [
    "predictions_ARIMA_diff_cumsum = predictions_ARIMA_diff.cumsum()\n",
    "\n",
    "predictions_ARIMA_diff_cumsum"
   ]
  },
  {
   "cell_type": "code",
   "execution_count": 0,
   "metadata": {
    "colab": {},
    "colab_type": "code",
    "collapsed": true,
    "id": "RokHwy8a6UAA"
   },
   "outputs": [],
   "source": [
    "predictions_ARIMA_log = pd.Series(ts_log.ix[0], index=ts_log.index)\n",
    "predictions_ARIMA_log = predictions_ARIMA_log.add(predictions_ARIMA_diff_cumsum,fill_value=0)\n",
    "predictions_ARIMA_log"
   ]
  },
  {
   "cell_type": "code",
   "execution_count": 0,
   "metadata": {
    "colab": {},
    "colab_type": "code",
    "collapsed": true,
    "id": "CSFLePlt6UAB"
   },
   "outputs": [],
   "source": []
  },
  {
   "cell_type": "code",
   "execution_count": 0,
   "metadata": {
    "colab": {},
    "colab_type": "code",
    "collapsed": true,
    "id": "FWifwBzT6UAC"
   },
   "outputs": [],
   "source": [
    "predictions_ARIMA = np.exp(predictions_ARIMA_log)\n",
    "predictions_ARIMA"
   ]
  },
  {
   "cell_type": "code",
   "execution_count": 0,
   "metadata": {
    "colab": {},
    "colab_type": "code",
    "collapsed": true,
    "id": "Zvuod_fj6UAE"
   },
   "outputs": [],
   "source": [
    "np.sqrt(sum((predictions_ARIMA-ts)**2)/len(ts))"
   ]
  },
  {
   "cell_type": "code",
   "execution_count": 0,
   "metadata": {
    "colab": {},
    "colab_type": "code",
    "collapsed": true,
    "id": "iE86f7z_6UAF"
   },
   "outputs": [],
   "source": [
    "predictions_ARIMA = np.exp(predictions_ARIMA_log)\n",
    "plt.plot(ts)\n",
    "plt.plot(predictions_ARIMA)\n",
    "plt.title('RMSE: %.4f'% np.sqrt(sum((predictions_ARIMA-ts)**2)/len(ts)))"
   ]
  },
  {
   "cell_type": "code",
   "execution_count": 0,
   "metadata": {
    "colab": {},
    "colab_type": "code",
    "collapsed": true,
    "id": "u8QjokxT6UAG"
   },
   "outputs": [],
   "source": [
    "predictions_ARIMA"
   ]
  },
  {
   "cell_type": "code",
   "execution_count": 0,
   "metadata": {
    "colab": {},
    "colab_type": "code",
    "collapsed": true,
    "id": "n2eM5ixO6UAH"
   },
   "outputs": [],
   "source": [
    "tsa.stattools.arma_order_select_ic(ts_log_diff.dropna(), max_ar=3, max_ma=3, ic='aic')\n"
   ]
  },
  {
   "cell_type": "code",
   "execution_count": 0,
   "metadata": {
    "colab": {},
    "colab_type": "code",
    "collapsed": true,
    "id": "6bcD-Rxf6UAJ"
   },
   "outputs": [],
   "source": [
    "model = ARIMA(ts_log_diff, order=(0, 1, 1))  \n",
    "results_ARIMA = model.fit(disp=-1)  \n",
    "plt.plot(ts_log_diff)\n",
    "plt.plot(results_ARIMA.fittedvalues, color='red')\n",
    "plt.title('RSS: %.4f'% sum((results_ARIMA.fittedvalues-ts_log_diff)**2))"
   ]
  },
  {
   "cell_type": "code",
   "execution_count": 0,
   "metadata": {
    "colab": {},
    "colab_type": "code",
    "collapsed": true,
    "id": "OdUHdgbN6UAK"
   },
   "outputs": [],
   "source": [
    "predictions_ARIMA_diff = pd.Series(results_ARIMA.fittedvalues, copy=True)\n",
    "predictions_ARIMA_diff"
   ]
  },
  {
   "cell_type": "code",
   "execution_count": 0,
   "metadata": {
    "colab": {},
    "colab_type": "code",
    "collapsed": true,
    "id": "MXeZ3zbI6UAM"
   },
   "outputs": [],
   "source": [
    "predictions_ARIMA_diff_cumsum = predictions_ARIMA_diff.cumsum()\n",
    "\n",
    "predictions_ARIMA_diff_cumsum.head()"
   ]
  },
  {
   "cell_type": "code",
   "execution_count": 0,
   "metadata": {
    "colab": {},
    "colab_type": "code",
    "collapsed": true,
    "id": "gkuhZm3j6UAO"
   },
   "outputs": [],
   "source": [
    "predictions_ARIMA_log = pd.Series(ts_log.ix[0], index=ts_log.index)\n",
    "predictions_ARIMA_log = predictions_ARIMA_log.add(predictions_ARIMA_diff_cumsum,fill_value=0)\n",
    "predictions_ARIMA_log"
   ]
  },
  {
   "cell_type": "code",
   "execution_count": 0,
   "metadata": {
    "colab": {},
    "colab_type": "code",
    "collapsed": true,
    "id": "AOoXZ1Kd6UAP"
   },
   "outputs": [],
   "source": [
    "predictions_ARIMA = np.exp(predictions_ARIMA_log)\n",
    "predictions_ARIMA"
   ]
  },
  {
   "cell_type": "markdown",
   "metadata": {
    "colab_type": "text",
    "id": "QQS4oOVGpW-S"
   },
   "source": [
    "# XGBoost"
   ]
  },
  {
   "cell_type": "code",
   "execution_count": 0,
   "metadata": {
    "colab": {},
    "colab_type": "code",
    "collapsed": true,
    "id": "t_EncwZ6-qf0"
   },
   "outputs": [],
   "source": [
    "from google3.pyglib import build_data\n",
    "from colabtools import adhoc_import\n",
    "from sklearn.model_selection import train_test_split\n",
    "from sklearn.metrics import accuracy_score\n",
    "from sklearn.preprocessing import LabelEncoder\n",
    "from sklearn.metrics import mean_squared_error\n",
    "import xgboost"
   ]
  },
  {
   "cell_type": "markdown",
   "metadata": {
    "colab_type": "text",
    "id": "JJ3M8S_qydLS"
   },
   "source": [
    "## Cloud Customers [Set-up]"
   ]
  },
  {
   "cell_type": "code",
   "execution_count": 0,
   "metadata": {
    "colab": {},
    "colab_type": "code",
    "collapsed": true,
    "id": "p96Pqdyq0SKL"
   },
   "outputs": [],
   "source": [
    "snapchat_billings.head(3)"
   ]
  },
  {
   "cell_type": "code",
   "execution_count": 0,
   "metadata": {
    "colab": {},
    "colab_type": "code",
    "collapsed": true,
    "id": "057uvTE_1TaA"
   },
   "outputs": [],
   "source": [
    "# create training and testing sets\n",
    "sc_train, sc_test = train_test_split(snapchat_billings, test_size=0.2)\n",
    "\n",
    "print sc_train.shape\n",
    "print sc_test.shape"
   ]
  },
  {
   "cell_type": "code",
   "execution_count": 0,
   "metadata": {
    "colab": {},
    "colab_type": "code",
    "collapsed": true,
    "id": "esmrOp26GyF8"
   },
   "outputs": [],
   "source": [
    "#Filter for customers with atleast 18 months of gcp billings\n",
    "cloud_customers= gcp_customers[gcp_customers.groupby('scp_customer_entity_name')['scp_customer_entity_name'].transform('size') > 17]\n",
    "\n",
    "# Customers who have had de-bookings\n",
    "debookings_list= cloud_customers[cloud_customers['gcp_billings']<0]['scp_customer_entity_name'].unique()\n",
    "\n",
    "# Create column to count number of debookings per customer\n",
    "cloud_customers.loc[:, 'debookings_count'] = cloud_customers.groupby(['scp_customer_entity_name'], as_index=True)['gcp_billings'].transform(lambda x: x[x<0].count() )\n",
    "\n",
    "# Customers who have never had de-bookings\n",
    "no_debookings_list= cloud_customers[cloud_customers['debookings_count']==0]['scp_customer_entity_name'].unique()"
   ]
  },
  {
   "cell_type": "code",
   "execution_count": 0,
   "metadata": {
    "colab": {},
    "colab_type": "code",
    "collapsed": true,
    "id": "1iRJCxllSUqj"
   },
   "outputs": [],
   "source": [
    "[x for x in debookings_list if x in no_debookings_list]"
   ]
  },
  {
   "cell_type": "code",
   "execution_count": 0,
   "metadata": {
    "colab": {},
    "colab_type": "code",
    "collapsed": true,
    "id": "bHWYVCTHTdZE"
   },
   "outputs": [],
   "source": [
    "cloud_customers['scp_customer_entity_name'].nunique()\n",
    "len(list(debookings_list)), len(list(no_debookings_list))\n",
    "cloud_customers.groupby(['scp_customer_entity_name'], as_index=True).agg({'gcp_billings': lambda x: x[x<0].count()}).sort_values(['gcp_billings'],ascending=False).reset_index()\n",
    "\n",
    "cloud_customers.head(10)\n",
    "\n",
    "cloud_customers[np.sign(cloud_customers.gcp_billings)!=1]\n",
    "cloud_customers.groupby(['scp_customer_entity_name'])['gcp_billings'].agg(lambda x: x[x<0].count())"
   ]
  },
  {
   "cell_type": "markdown",
   "metadata": {
    "colab_type": "text",
    "id": "9Nj7G7Jp06GI"
   },
   "source": [
    "## Snapchat"
   ]
  },
  {
   "cell_type": "code",
   "execution_count": 0,
   "metadata": {
    "colab": {},
    "colab_type": "code",
    "collapsed": true,
    "id": "_F_KP4G3uZPa"
   },
   "outputs": [],
   "source": [
    "#Expand feature list using Date Column\n",
    "snapchat_billings['Month'] = snapchat_billings['month_date'].dt.month\n",
    "snapchat_billings['Year'] = snapchat_billings['month_date'].dt.year\n",
    "snapchat_billings['Quarter']= snapchat_billings['month_date'].dt.quarter\n",
    "\n",
    "snapchat_billings.drop(columns = ['month_date', 'scp_customer_entity_name'], inplace= True)"
   ]
  },
  {
   "cell_type": "code",
   "execution_count": 0,
   "metadata": {
    "colab": {},
    "colab_type": "code",
    "collapsed": true,
    "id": "3j7qE4BFwVCu"
   },
   "outputs": [],
   "source": [
    "snapchat_billings.head(6)"
   ]
  },
  {
   "cell_type": "code",
   "execution_count": 0,
   "metadata": {
    "colab": {},
    "colab_type": "code",
    "collapsed": true,
    "id": "gH01xLmfdvtu"
   },
   "outputs": [],
   "source": [
    "#Separate target variable and features\n",
    "\n",
    "X, y = snapchat_billings.loc[:, snapchat_billings.columns!='gcp_billings'] , snapchat_billings.loc[:, 'gcp_billings']\n",
    "X_train, X_test, y_train, y_test = train_test_split(X, y, test_size=0.2, random_state=123)\n",
    "\n",
    "# encode string class values as integers\n",
    "# label_encoder = LabelEncoder()\n",
    "# label_encoder = label_encoder.fit(X['is_potential_fraud'])\n",
    "# X.loc[:, 'is_potential_fraud'] = label_encoder.transform(X['is_potential_fraud'])"
   ]
  },
  {
   "cell_type": "code",
   "execution_count": 0,
   "metadata": {
    "colab": {},
    "colab_type": "code",
    "collapsed": true,
    "id": "uW__EXAi1eOf"
   },
   "outputs": [],
   "source": [
    "#MODEL #1 Very Basic - W/ No fine-tuning whatsoever\n",
    "\n",
    "data_dmatrix = xgboost.DMatrix(data=X,label=y)\n",
    "xg_reg = xgboost.XGBRegressor(objective ='reg:linear', colsample_bytree = 0.3, learning_rate = 0.1, max_depth = 5, alpha = 10, n_estimators = 10)\n",
    "xg_reg.fit(X_train, y_train)\n",
    "preds1 = xg_reg.predict(X_test)\n",
    "rmse = np.sqrt(mean_squared_error(y_test, preds1))\n",
    "print(\"RMSE: %f\" % (rmse))\n",
    "\n",
    "#pd.DataFrame(preds1)\n",
    "#pd.Series(preds1)\n",
    "\n",
    "(((((y_test - preds1) / y_test) * 100).abs())-100).abs(), \\\n",
    "SMAPE(preds1, y_test)"
   ]
  },
  {
   "cell_type": "code",
   "execution_count": 0,
   "metadata": {
    "colab": {},
    "colab_type": "code",
    "collapsed": true,
    "id": "WdNYqaxCXppp"
   },
   "outputs": [],
   "source": [
    "def cv_boost(x_train):\n",
    "  \"\"\"Use CV function to tune hyperparameters and run cross-validation on our training dataset and returns a mean MAE score\"\"\"\n",
    "  dtrain = xgboost.DMatrix(x_train, label=y_train, feature_names=list(x_train.columns))\n",
    "\n",
    "  params = {'max_depth':4, 'objective': 'reg:linear',\n",
    "            'eta':0.085, 'gamma':10, 'silent':1, 'subsample':1}\n",
    "  num_rounds = 1500\n",
    "  cv_results = xgboost.cv(params, dtrain, num_boost_round=num_rounds, seed=42, nfold=5, metrics={'mae'}, early_stopping_rounds=10)\n",
    "  return cv_results\n",
    "\n",
    "cv_boost(X_train)"
   ]
  },
  {
   "cell_type": "code",
   "execution_count": 0,
   "metadata": {
    "colab": {},
    "colab_type": "code",
    "collapsed": true,
    "id": "0fa-l1LmaHyu"
   },
   "outputs": [],
   "source": [
    "# USE CV TO FIND OPTIMAL max_depth and min_child_weight parameters\n",
    "\n",
    "def cv_booster(x_train, y_train):\n",
    "  \n",
    "  dtrain = xgboost.DMatrix(x_train, label=y_train, feature_names=list(x_train.columns))\n",
    "  params = {'max_depth':4, 'objective': 'reg:linear','eta':0.085, 'gamma':10, 'silent':1, 'subsample':1}\n",
    "  num_rounds = 1500\n",
    "  gridsearch_params = [ (max_depth, min_child_weight)\n",
    "      for max_depth in range(9,12)\n",
    "      for min_child_weight in range(5,8)]\n",
    "  # Define initial best params and MAE\n",
    "  min_mae = float(\"Inf\")\n",
    "  best_params = None\n",
    "  for max_depth, min_child_weight in gridsearch_params:\n",
    "    #print(\"CV with max_depth={}, min_child_weight={}\".format(max_depth, min_child_weight))\n",
    "\n",
    "    # Update our parameters\n",
    "    params['max_depth'] = max_depth\n",
    "    params['min_child_weight'] = min_child_weight\n",
    "    # Run CV\n",
    "    cv_results = xgboost.cv(params, dtrain, num_boost_round=num_rounds, metrics={'mae'}, early_stopping_rounds=10)\n",
    "\n",
    "    # Update best MAE\n",
    "    mean_mae = cv_results['test-mae-mean'].min()\n",
    "    boost_rounds = cv_results['test-mae-mean'].idxmin()\n",
    "    #print(\"\\tMAE {} for {} rounds\".format(mean_mae, boost_rounds))\n",
    "    \n",
    "    if mean_mae < min_mae:\n",
    "      min_mae = mean_mae\n",
    "      best_params = (max_depth, min_child_weight)\n",
    "  #print(\"Best params: {}, {}, MAE: {}\".format(best_params[0], best_params[1], min_mae))\n",
    "  return best_params[0], best_params[1]\n",
    "\n",
    "cv_booster(X_train, y_train)"
   ]
  },
  {
   "cell_type": "code",
   "execution_count": 0,
   "metadata": {
    "colab": {},
    "colab_type": "code",
    "collapsed": true,
    "id": "Kd4myDBqS18i"
   },
   "outputs": [],
   "source": [
    "#TESTING/ TWEAKING PARAMETERS\n",
    "\n",
    "def xboost(x_train, y_train, x_test):\n",
    "  \"\"\"Trains xgboost model and returns predictions for x_test\"\"\"\n",
    "  dtrain = xgboost.DMatrix(x_train, label=y_train, feature_names=list(x_train.columns))\n",
    "  dtest = xgboost.DMatrix(x_test, feature_names=list(x_test.columns))\n",
    "\n",
    "  params = {'max_depth':9, 'objective': 'reg:linear', #'eta':0.093 ----> 92.97% and SMAPE= 6.73\n",
    "            'eta':0.199, 'gamma':10, 'min_child_weight':6,\n",
    "            'silent':1, 'subsample':1 }\n",
    "  \n",
    "  \"\"\"USE cv_booster function to get max_depth & min_child_weight\"\"\"\n",
    "  params['max_depth'], params['min_child_weight'] = cv_booster(x_train, y_train) \n",
    "  \n",
    "  num_rounds = 1500\n",
    "  model = xgboost.train(params, dtrain, num_rounds)\n",
    "  return pd.Series(model.predict(dtest))\n",
    "\n",
    "##############################################################################\n",
    "##############################################################################\n",
    "\n",
    "def SMAPE(forecast, actual):\n",
    "  \"\"\"Returns the Symmetric Mean Absolute Percentage Error between two Series\"\"\"\n",
    "  masked_arr = ~((forecast==0)&(actual==0))\n",
    "  diff = abs(forecast[masked_arr] - actual[masked_arr])\n",
    "  avg = (abs(forecast[masked_arr]) + abs(actual[masked_arr]))/2\n",
    "  print('SMAPE Error Score: ' + str(round(sum(diff/avg)/len(forecast) * 100, 2)) + ' %')\n",
    "  print(('Average Forecasting Accuracy: {} %').format(round((((((y_test - preds) / y_test) * 100).abs())-100).mean(), 2) * -1))\n",
    "\n",
    "preds = xboost(X_train, y_train, X_test)\n",
    "y_test= pd.Series(y_test, dtype='float32').reset_index(drop=True)\n",
    "\n",
    "(((((y_test - preds) / y_test) * 100).abs())-100).abs().astype('float').round(2) \\\n",
    ", SMAPE(preds, y_test)"
   ]
  },
  {
   "cell_type": "code",
   "execution_count": 0,
   "metadata": {
    "colab": {},
    "colab_type": "code",
    "collapsed": true,
    "id": "6L7jObJd153u"
   },
   "outputs": [],
   "source": [
    "#Forecast Results (X_test, y_test, preds)\n",
    "forecast_actual=pd.concat([X_test.reset_index(drop=True), pd.DataFrame(y_test), pd.DataFrame(preds)], axis=1).\\\n",
    "sort_values(by=['Year', 'Month', 'Quarter']).rename(columns={'gcp_billings':'actual_billings', 0:'Forecasted_billings'})\n",
    "forecast_actual['Forecast_Accuracy']=(((((forecast_actual.actual_billings - forecast_actual.Forecasted_billings) / forecast_actual.actual_billings) * 100).abs())-100).abs()\n",
    "forecast_actual['Forecast_Accuracy'] = forecast_actual['Forecast_Accuracy'].astype('float').round(2)\n",
    "forecast_actual"
   ]
  },
  {
   "cell_type": "code",
   "execution_count": 0,
   "metadata": {
    "colab": {},
    "colab_type": "code",
    "collapsed": true,
    "id": "QIMq_pPrru6Q"
   },
   "outputs": [],
   "source": [
    "pd.DataFrame(preds)"
   ]
  },
  {
   "cell_type": "code",
   "execution_count": 0,
   "metadata": {
    "colab": {},
    "colab_type": "code",
    "collapsed": true,
    "id": "yCg1AKHF6eos"
   },
   "outputs": [],
   "source": [
    "y_test"
   ]
  },
  {
   "cell_type": "code",
   "execution_count": 0,
   "metadata": {
    "colab": {},
    "colab_type": "code",
    "collapsed": true,
    "id": "uV9MGzRspKDj"
   },
   "outputs": [],
   "source": [
    "X_test"
   ]
  },
  {
   "cell_type": "code",
   "execution_count": 0,
   "metadata": {
    "colab": {},
    "colab_type": "code",
    "collapsed": true,
    "id": "Wl6vXbeV8iUj"
   },
   "outputs": [],
   "source": [
    "pd.DataFrame(xboost(X_train, y_train, X_test)).reset_index()"
   ]
  },
  {
   "cell_type": "code",
   "execution_count": 0,
   "metadata": {
    "colab": {},
    "colab_type": "code",
    "collapsed": true,
    "id": "b5IDMKu0-cic"
   },
   "outputs": [],
   "source": [
    "np.sqrt(mean_squared_error(preds, y_test))"
   ]
  },
  {
   "cell_type": "markdown",
   "metadata": {
    "colab_type": "text",
    "id": "OtJ-Mv6yz8cw"
   },
   "source": [
    "## Prediction for Future Data"
   ]
  },
  {
   "cell_type": "code",
   "execution_count": 0,
   "metadata": {
    "colab": {},
    "colab_type": "code",
    "collapsed": true,
    "id": "CGC1wCeiiWgf"
   },
   "outputs": [],
   "source": [
    "# List of series with future Dates, adding in 7 more rows(months)\n",
    "\n",
    "listOfSeries = [pd.Series([None, 6, 2019, 2], index=snapchat_billings.columns ) , pd.Series([None, 7, 2019, 3], index=snapchat_billings.columns ) , \n",
    "                pd.Series([None, 8, 2019, 3], index=snapchat_billings.columns ) , pd.Series([None, 9, 2019, 3], index=snapchat_billings.columns ),\n",
    "               pd.Series([None, 10, 2019, 4], index=snapchat_billings.columns ),pd.Series([None,11, 2019, 4], index=snapchat_billings.columns ),\n",
    "               pd.Series([None, 12, 2019, 4], index=snapchat_billings.columns )]"
   ]
  },
  {
   "cell_type": "code",
   "execution_count": 0,
   "metadata": {
    "colab": {},
    "colab_type": "code",
    "collapsed": true,
    "id": "oKlhr9fTiajl"
   },
   "outputs": [],
   "source": [
    "future_billings=snapchat_billings.append(listOfSeries , ignore_index=True)"
   ]
  },
  {
   "cell_type": "code",
   "execution_count": 0,
   "metadata": {
    "colab": {},
    "colab_type": "code",
    "collapsed": true,
    "id": "__yVcrJMjtWR"
   },
   "outputs": [],
   "source": [
    "future_billings.tail(7)"
   ]
  },
  {
   "cell_type": "code",
   "execution_count": 0,
   "metadata": {
    "colab": {},
    "colab_type": "code",
    "collapsed": true,
    "id": "A9SKLETwBVHi"
   },
   "outputs": [],
   "source": [
    "#UNSEEN DATA\n",
    "x_train = future_billings[pd.notnull(future_billings['gcp_billings'])].drop(['gcp_billings'], axis=1)\n",
    "y_train = future_billings[pd.notnull(future_billings['gcp_billings'])]['gcp_billings']\n",
    "\n",
    "# x_test goes into predict model, model trains on x_train while y is used as target variable in it.\n",
    "x_test = future_billings[pd.isnull(future_billings['gcp_billings'])].drop(['gcp_billings'], axis=1)"
   ]
  },
  {
   "cell_type": "code",
   "execution_count": 0,
   "metadata": {
    "colab": {},
    "colab_type": "code",
    "collapsed": true,
    "id": "PkVoaqKRBVLv"
   },
   "outputs": [],
   "source": [
    "future_preds=xboost(x_train, y_train, x_test)\n",
    "pd.DataFrame(future_preds)"
   ]
  },
  {
   "cell_type": "code",
   "execution_count": 0,
   "metadata": {
    "colab": {},
    "colab_type": "code",
    "collapsed": true,
    "id": "kgJq21p5BVFc"
   },
   "outputs": [],
   "source": [
    "#7 Month GCP Billings Forecast\n",
    "pd.concat([future_billings.tail(7).reset_index(drop=True), pd.DataFrame(future_preds)], axis=1).rename(columns={0:'Forecasted_billings'})"
   ]
  },
  {
   "cell_type": "markdown",
   "metadata": {
    "colab_type": "text",
    "id": "tXZpiwjMeKgh"
   },
   "source": [
    "## k-fold Cross Validation using XGBoost\n"
   ]
  },
  {
   "cell_type": "code",
   "execution_count": 0,
   "metadata": {
    "colab": {},
    "colab_type": "code",
    "collapsed": true,
    "id": "wM_20Xi2eLq1"
   },
   "outputs": [],
   "source": [
    "params = {\"objective\":\"reg:linear\",'colsample_bytree': 0.3,'max_depth': 5, 'alpha': 10,'learning_rate': 0.1}\n",
    "\n",
    "cv_results = xgboost.cv(dtrain=data_dmatrix, params=params, nfold=3, num_boost_round=50,early_stopping_rounds=10,metrics=\"rmse\", as_pandas=True, seed=123)"
   ]
  },
  {
   "cell_type": "code",
   "execution_count": 0,
   "metadata": {
    "colab": {},
    "colab_type": "code",
    "collapsed": true,
    "id": "Z7NDIOxAeVo4"
   },
   "outputs": [],
   "source": [
    "cv_results.head()\n",
    "\n",
    "print((cv_results[\"test-rmse-mean\"]).tail(1))\n"
   ]
  },
  {
   "cell_type": "code",
   "execution_count": 0,
   "metadata": {
    "colab": {},
    "colab_type": "code",
    "collapsed": true,
    "id": "Qk21xjte7EFd"
   },
   "outputs": [],
   "source": [
    "cv_results"
   ]
  },
  {
   "cell_type": "code",
   "execution_count": 0,
   "metadata": {
    "colab": {},
    "colab_type": "code",
    "collapsed": true,
    "id": "e-psMaXV7C3q"
   },
   "outputs": [],
   "source": [
    "pd.DataFrame(preds)"
   ]
  },
  {
   "cell_type": "code",
   "execution_count": 0,
   "metadata": {
    "colab": {},
    "colab_type": "code",
    "collapsed": true,
    "id": "j2bNz0freaCd"
   },
   "outputs": [],
   "source": [
    "xg_reg = xgboost.train(params=params, dtrain=data_dmatrix, num_boost_round=10)\n"
   ]
  },
  {
   "cell_type": "code",
   "execution_count": 0,
   "metadata": {
    "colab": {},
    "colab_type": "code",
    "collapsed": true,
    "id": "QdQdwc3heaHt"
   },
   "outputs": [],
   "source": [
    "import matplotlib.pyplot as plt\n",
    "\n",
    "xgboost.plot_tree(xg_reg,num_trees=0)\n",
    "plt.rcParams['figure.figsize'] = [50, 10]\n",
    "plt.show()"
   ]
  },
  {
   "cell_type": "code",
   "execution_count": 0,
   "metadata": {
    "colab": {},
    "colab_type": "code",
    "collapsed": true,
    "id": "Allwcv6qeaGP"
   },
   "outputs": [],
   "source": [
    "xgboost.plot_importance(xg_reg)\n",
    "plt.rcParams['figure.figsize'] = [5, 5]\n",
    "plt.show()"
   ]
  }
 ],
 "metadata": {
  "colab": {
   "collapsed_sections": [
    "HCR4tsc-4NNN",
    "8_f64jG06T9k",
    "KIIt647ZL-tY",
    "DzoM9dWg6T9-",
    "yvNiAUFk6T-D",
    "5Xf4XZ046T-I",
    "GJWiR5BE6T-Z",
    "c2dMqZ1s6T_M",
    "k1a72YF66T_T",
    "dYfIQku16T_0",
    "9OiLXeuV6T_2",
    "paeyn0UB6T_3",
    "QQS4oOVGpW-S",
    "JJ3M8S_qydLS",
    "9Nj7G7Jp06GI",
    "OtJ-Mv6yz8cw",
    "tXZpiwjMeKgh"
   ],
   "last_runtime": {
    "build_target": "//quality/ranklab/experimental/notebook:rl_colab",
    "kind": "private"
   },
   "name": "Copy of ARIMA vs XGBoost.ipynb",
   "private_outputs": true,
   "provenance": [
    {
     "file_id": "17SsRgxWaVKTwtlsO69RbPU_bWfFz0B7H",
     "timestamp": 1555568457069
    }
   ],
   "version": "0.3.2"
  },
  "kernelspec": {
   "display_name": "Python 3",
   "language": "python",
   "name": "python3"
  },
  "language_info": {
   "codemirror_mode": {
    "name": "ipython",
    "version": 3
   },
   "file_extension": ".py",
   "mimetype": "text/x-python",
   "name": "python",
   "nbconvert_exporter": "python",
   "pygments_lexer": "ipython3",
   "version": "3.6.2"
  }
 },
 "nbformat": 4,
 "nbformat_minor": 1
}
