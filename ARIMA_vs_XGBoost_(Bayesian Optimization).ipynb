{
  "nbformat": 4,
  "nbformat_minor": 0,
  "metadata": {
    "colab": {
      "name": "ARIMA_vs_XGBoost- (1).ipynb",
      "version": "0.3.2",
      "provenance": [],
      "private_outputs": true,
      "collapsed_sections": [
        "l9lAXW4O6T8S",
        "stWpxjt46T82",
        "HCR4tsc-4NNN",
        "8_f64jG06T9k",
        "KIIt647ZL-tY",
        "DzoM9dWg6T9-",
        "yvNiAUFk6T-D",
        "5Xf4XZ046T-I",
        "GJWiR5BE6T-Z",
        "paeyn0UB6T_3"
      ],
      "include_colab_link": true
    },
    "language_info": {
      "codemirror_mode": {
        "name": "ipython",
        "version": 3
      },
      "file_extension": ".py",
      "mimetype": "text/x-python",
      "name": "python",
      "nbconvert_exporter": "python",
      "pygments_lexer": "ipython3",
      "version": "3.6.2"
    },
    "kernelspec": {
      "name": "python3",
      "display_name": "Python 3"
    },
    "accelerator": "GPU"
  },
  "cells": [
    {
      "cell_type": "markdown",
      "metadata": {
        "id": "view-in-github",
        "colab_type": "text"
      },
      "source": [
        "<a href=\"https://colab.research.google.com/github/gibranhasan14/Side-Projects/blob/master/ARIMA_vs_XGBoost_(Bayesian%20Optimization).ipynb\" target=\"_parent\"><img src=\"https://colab.research.google.com/assets/colab-badge.svg\" alt=\"Open In Colab\"/></a>"
      ]
    },
    {
      "cell_type": "markdown",
      "metadata": {
        "colab_type": "text",
        "id": "l9lAXW4O6T8S"
      },
      "source": [
        "# ARIMA MODEL FOR Sales PREDICTIONS\n"
      ]
    },
    {
      "cell_type": "code",
      "metadata": {
        "colab_type": "code",
        "id": "jP4TXJ8e6T8U",
        "colab": {}
      },
      "source": [
        "%matplotlib inline\n",
        "import matplotlib.pyplot as plt\n",
        "import numpy as np\n",
        "import pandas as pd\n",
        "from operator import itemgetter\n",
        "import scipy.stats as st\n",
        "from statsmodels.tsa import stattools as stt\n",
        "from statsmodels import tsa\n",
        "import statsmodels.api as smapi\n",
        "import datetime\n",
        "from pandas.core import datetools\n",
        "from statsmodels.tsa.stattools import adfuller\n",
        "from colabtools import dremel\n",
        "dateparse = lambda d: pd.datetime.strptime(d, '%Y/%m/%d')  "
      ],
      "execution_count": 0,
      "outputs": []
    },
    {
      "cell_type": "code",
      "metadata": {
        "colab_type": "code",
        "id": "rRg4BmT96T8d",
        "colab": {}
      },
      "source": [
        "snapchat_billings.dtypes"
      ],
      "execution_count": 0,
      "outputs": []
    },
    {
      "cell_type": "code",
      "metadata": {
        "colab_type": "code",
        "id": "oHBJFaVt1H-A",
        "colab": {}
      },
      "source": [
        "snapchat_billings.set_index('scp_customer_entity_name')['gcp_billings']"
      ],
      "execution_count": 0,
      "outputs": []
    },
    {
      "cell_type": "code",
      "metadata": {
        "colab_type": "code",
        "id": "iBd_c5UT6T8k",
        "colab": {}
      },
      "source": [
        "def is_stationary(df, maxlag=12, autolag=None, regression='ct'):\n",
        "    \"\"\"Run the Augmented Dickey-Fuller test from statsmodels\n",
        "    and print output.\n",
        "    \"\"\"\n",
        "    outpt = stt.adfuller(df,maxlag=maxlag, autolag=autolag,\n",
        "                            regression=regression)\n",
        "    print('adf\\t\\t {0:.3f}'.format(outpt[0]))\n",
        "    print('p\\t\\t {0:.3g}'.format(outpt[1]))\n",
        "    print('crit. val.\\t 1%: {0:.3f}, \\\n",
        "5%: {1:.3f}, 10%: {2:.3f}'.format(outpt[4][\"1%\"], \n",
        "                                     outpt[4][\"5%\"], outpt[4][\"10%\"]))\n",
        "    print('stationary?\\t {0}'.format(['true', 'false']\\\n",
        "                                   [outpt[0]>outpt[4]['5%']]))\n",
        "    return outpt"
      ],
      "execution_count": 0,
      "outputs": []
    },
    {
      "cell_type": "code",
      "metadata": {
        "colab_type": "code",
        "id": "Cs0gDHjJ6T8m",
        "colab": {}
      },
      "source": [
        "def despine(axs):\n",
        "    # to be able to handle subplot grids\n",
        "    # it assumes the input is a list of \n",
        "    # axes instances, if it is not a list, \n",
        "    # it puts it in one\n",
        "    if type(axs) != type([]):\n",
        "        axs = [axs]\n",
        "    for ax in axs:\n",
        "        ax.yaxis.set_ticks_position('left')\n",
        "        ax.xaxis.set_ticks_position('bottom')\n",
        "        ax.spines['bottom'].set_position(('outward', 10))\n",
        "        ax.spines['left'].set_position(('outward', 10))"
      ],
      "execution_count": 0,
      "outputs": []
    },
    {
      "cell_type": "code",
      "metadata": {
        "colab_type": "code",
        "id": "CQ-f0T_-1lff",
        "colab": {}
      },
      "source": [
        "billings_series = pd.Series(snapchat_billings['gcp_billings'], index=snapchat_billings.index)"
      ],
      "execution_count": 0,
      "outputs": []
    },
    {
      "cell_type": "code",
      "metadata": {
        "colab_type": "code",
        "id": "MmaMq2b66T8i",
        "colab": {}
      },
      "source": [
        "s_test = adfuller(billings_series, maxlag=12, autolag= None,regression='ct')\n",
        "# extract p value from test results, try with autolag= 'aic'\n",
        "print(\"p value > 0.05 means data is non-stationary: \", s_test[1])"
      ],
      "execution_count": 0,
      "outputs": []
    },
    {
      "cell_type": "code",
      "metadata": {
        "colab_type": "code",
        "id": "kl9oE4oY2NAk",
        "colab": {}
      },
      "source": [
        "snapchat= snapchat_billings.set_index('month_date')['gcp_billings']"
      ],
      "execution_count": 0,
      "outputs": []
    },
    {
      "cell_type": "code",
      "metadata": {
        "colab_type": "code",
        "id": "5JgdHydK2VpB",
        "colab": {}
      },
      "source": [
        "snapchat.index"
      ],
      "execution_count": 0,
      "outputs": []
    },
    {
      "cell_type": "code",
      "metadata": {
        "colab_type": "code",
        "id": "3foaU7XU6T8w",
        "colab": {}
      },
      "source": [
        "plt.plot(snapchat)\n",
        "despine(plt.gca())\n",
        "plt.gcf().autofmt_xdate()\n",
        "plt.xlabel('booking_month')\n",
        "plt.ylabel('Snapchat, Inc.')\n",
        "plt.xlim('2016','2019')\n",
        "plt.title('Snapchat Billings');"
      ],
      "execution_count": 0,
      "outputs": []
    },
    {
      "cell_type": "code",
      "metadata": {
        "colab_type": "code",
        "id": "27_fAHGg6T8z",
        "colab": {}
      },
      "source": [
        "is_stationary(snapchat);\n"
      ],
      "execution_count": 0,
      "outputs": []
    },
    {
      "cell_type": "code",
      "metadata": {
        "colab_type": "code",
        "id": "Zmm6fPO7bak4",
        "colab": {}
      },
      "source": [
        "sc= snapchat_billings.set_index('month_date')['gcp_billings']\n",
        "training, testing = train_test_split(sc, test_size=0.33, random_state=42)"
      ],
      "execution_count": 0,
      "outputs": []
    },
    {
      "cell_type": "code",
      "metadata": {
        "colab_type": "code",
        "id": "WMNFZy5-cUeq",
        "colab": {}
      },
      "source": [
        "testing"
      ],
      "execution_count": 0,
      "outputs": []
    },
    {
      "cell_type": "code",
      "metadata": {
        "colab_type": "code",
        "id": "xcSnLgOxcSkH",
        "colab": {}
      },
      "source": [
        "sc = training.copy()"
      ],
      "execution_count": 0,
      "outputs": []
    },
    {
      "cell_type": "markdown",
      "metadata": {
        "colab_type": "text",
        "id": "stWpxjt46T82"
      },
      "source": [
        "# Step 1: Removing Stationarity- "
      ]
    },
    {
      "cell_type": "markdown",
      "metadata": {
        "colab_type": "text",
        "id": "ysJgweYf4Ghd"
      },
      "source": [
        "## Differencing"
      ]
    },
    {
      "cell_type": "code",
      "metadata": {
        "colab_type": "code",
        "id": "uvkHgkZE4Jbe",
        "colab": {}
      },
      "source": [
        "snapchat.diff(1).plot(label='1 period', title='Snapchat Billings') \n",
        "plt.legend(loc='best') \n",
        "despine(plt.gca())"
      ],
      "execution_count": 0,
      "outputs": []
    },
    {
      "cell_type": "code",
      "metadata": {
        "colab_type": "code",
        "id": "YH8B-t1U4MwB",
        "colab": {}
      },
      "source": [
        "is_stationary(snapchat.diff(1).dropna()) "
      ],
      "execution_count": 0,
      "outputs": []
    },
    {
      "cell_type": "code",
      "metadata": {
        "colab_type": "code",
        "id": "tyyCpbno4n7r",
        "colab": {}
      },
      "source": [
        "snapchat.diff(1).plot(label='1 period', title='Snapchat', \n",
        "                      dashes=(15,5)) \n",
        "snapchat.diff(1).diff(12).plot(label='1 and 12 period(s)', \n",
        "                               color='Coral') \n",
        "plt.legend(loc='best') \n",
        "despine(plt.gca()) \n",
        "plt.xlabel('Date')"
      ],
      "execution_count": 0,
      "outputs": []
    },
    {
      "cell_type": "code",
      "metadata": {
        "colab_type": "code",
        "id": "_XEh-J8r4xAJ",
        "colab": {}
      },
      "source": [
        "is_stationary(snapchat.diff(1).diff(12).dropna()); \n"
      ],
      "execution_count": 0,
      "outputs": []
    },
    {
      "cell_type": "code",
      "metadata": {
        "colab_type": "code",
        "id": "GWHFcLx94z8f",
        "colab": {}
      },
      "source": [
        "is_stationary((snapchat-snapchat_seasonal).diff(1).dropna()); \n"
      ],
      "execution_count": 0,
      "outputs": []
    },
    {
      "cell_type": "code",
      "metadata": {
        "colab_type": "code",
        "id": "Kzm9i-8O7XRq",
        "colab": {}
      },
      "source": [
        ""
      ],
      "execution_count": 0,
      "outputs": []
    },
    {
      "cell_type": "markdown",
      "metadata": {
        "colab_type": "text",
        "id": "9_087hfw_79Q"
      },
      "source": [
        "**Log Transformation**"
      ]
    },
    {
      "cell_type": "code",
      "metadata": {
        "colab_type": "code",
        "id": "eyqKrDsJ7XWw",
        "colab": {}
      },
      "source": [
        "log_series = np.log(snapchat)\n",
        "log_series_shift = log_series - log_series.shift()\n",
        "#log_series_shift = log_series_shift[∼np.isnan(log_series_shift)]\n",
        "\n",
        "log_series_shift= log_series_shift.dropna()\n",
        "\n",
        "is_stationary(log_series_shift);"
      ],
      "execution_count": 0,
      "outputs": []
    },
    {
      "cell_type": "code",
      "metadata": {
        "colab_type": "code",
        "id": "_mT91awT_Np_",
        "colab": {}
      },
      "source": [
        "snapchat.values"
      ],
      "execution_count": 0,
      "outputs": []
    },
    {
      "cell_type": "code",
      "metadata": {
        "colab_type": "code",
        "id": "lrvLXwqA_Nm4",
        "colab": {}
      },
      "source": [
        "snapchat['z_data'] = (snapchat.values - snapchat.rolling(window=12).mean()) / snapchat.rolling(window=12).std()\n",
        "snapchat['zp_data'] = snapchat['z_data'] - snapchat['z_data'].shift(12)"
      ],
      "execution_count": 0,
      "outputs": []
    },
    {
      "cell_type": "code",
      "metadata": {
        "colab_type": "code",
        "id": "7xTSxZ6x_Njh",
        "colab": {}
      },
      "source": [
        "snapchat.index"
      ],
      "execution_count": 0,
      "outputs": []
    },
    {
      "cell_type": "code",
      "metadata": {
        "colab_type": "code",
        "id": "6C_QHSk7BwBt",
        "colab": {}
      },
      "source": [
        "adfuller(snapchat.z_data.dropna(), autolag='AIC', regression='ct')"
      ],
      "execution_count": 0,
      "outputs": []
    },
    {
      "cell_type": "code",
      "metadata": {
        "colab_type": "code",
        "id": "4O9lurrXB8Ur",
        "colab": {}
      },
      "source": [
        "adfuller(snapchat.zp_data.dropna(), autolag='AIC', regression='ct')"
      ],
      "execution_count": 0,
      "outputs": []
    },
    {
      "cell_type": "code",
      "metadata": {
        "colab_type": "code",
        "id": "Q1uuvWDLCmYc",
        "colab": {}
      },
      "source": [
        "is_stationary(snapchat.zp_data.dropna(), autolag='AIC', regression='ct')"
      ],
      "execution_count": 0,
      "outputs": []
    },
    {
      "cell_type": "code",
      "metadata": {
        "colab_type": "code",
        "id": "bZ7-22zKB8Ne",
        "colab": {}
      },
      "source": [
        "is_stationary(snapchat.z_data.dropna(), autolag='AIC', regression='ct')"
      ],
      "execution_count": 0,
      "outputs": []
    },
    {
      "cell_type": "code",
      "metadata": {
        "colab_type": "code",
        "id": "ReTh-EwHAbfb",
        "colab": {}
      },
      "source": [
        ""
      ],
      "execution_count": 0,
      "outputs": []
    },
    {
      "cell_type": "code",
      "metadata": {
        "colab_type": "code",
        "id": "4jn8iE8IKOLR",
        "colab": {}
      },
      "source": [
        "sc= snapchat_billings.set_index('month_date')['gcp_billings']\n",
        "sc_log = np.log(sc)\n",
        "moving_avg = pd.rolling_mean(sc_log,12)\n",
        "sc_log_moving_avg_diff = sc_log - moving_avg\n",
        "sc_log_moving_avg_diff.dropna(inplace=True)"
      ],
      "execution_count": 0,
      "outputs": []
    },
    {
      "cell_type": "code",
      "metadata": {
        "colab_type": "code",
        "id": "KqfC_EGfNjVq",
        "colab": {}
      },
      "source": [
        "is_stationary(sc_log_moving_avg_diff)"
      ],
      "execution_count": 0,
      "outputs": []
    },
    {
      "cell_type": "code",
      "metadata": {
        "colab_type": "code",
        "id": "3X97syS-WXI6",
        "colab": {}
      },
      "source": [
        ""
      ],
      "execution_count": 0,
      "outputs": []
    },
    {
      "cell_type": "code",
      "metadata": {
        "colab_type": "code",
        "id": "sa-XK5OMNjb1",
        "colab": {}
      },
      "source": [
        "test=check_stationary(sc_log_moving_avg_diff)"
      ],
      "execution_count": 0,
      "outputs": []
    },
    {
      "cell_type": "code",
      "metadata": {
        "colab_type": "code",
        "id": "oUmV-jkCQotK",
        "colab": {}
      },
      "source": [
        "def check_stationary(df, maxlag=12, autolag='AIC', regression='ct'):\n",
        "    \"\"\"Run the Augmented Dickey-Fuller test from statsmodels\n",
        "    and print output.\n",
        "    \"\"\"\n",
        "    outpt = stt.adfuller(df, maxlag = maxlag, autolag=autolag, regression=regression)\n",
        "    adf = outpt[0]\n",
        "    p= outpt[1]\n",
        "    crit_val= outpt[4][\"1%\"], outpt[4][\"5%\"], outpt[4][\"10%\"]\n",
        "    stationary= ['true', 'false'][outpt[0]>outpt[4]['5%']]\n",
        "    return adf, p, crit_val, stationary"
      ],
      "execution_count": 0,
      "outputs": []
    },
    {
      "cell_type": "code",
      "metadata": {
        "colab_type": "code",
        "id": "3gz_NjGGNjZg",
        "colab": {}
      },
      "source": [
        "def stationarize(snapchat_billings):\n",
        "  sc= snapchat_billings.set_index('month_date')['gcp_billings']\n",
        "  \n",
        "  stat_dict ={}\n",
        "  #Method 1:\n",
        "  sc_log = np.log(sc)\n",
        "  moving_avg = pd.rolling_mean(sc_log,12)\n",
        "  sc_log_moving_avg_diff = sc_log - moving_avg\n",
        "  sc_log_moving_avg_diff.dropna(inplace=True)\n",
        "  test=check_stationary(sc_log_moving_avg_diff)\n",
        "  p1= test[1]\n",
        "  stat_dict.update( {'sc_log_moving_avg_diff' : p1} )\n",
        "  \n",
        "  #Method4 Decomposing:\n",
        "  snapchat_decomp = seasonal_decompose(sc, freq=12)\n",
        "  snapchat_trend = snapchat_decomp.trend\n",
        "  snapchat_seasonal = snapchat_decomp.seasonal\n",
        "  snapchat_residual = snapchat_decomp.resid\n",
        "  snapchat_residual.dropna(inplace=True)\n",
        "  test6=check_stationary(snapchat_residual.dropna());\n",
        "  p6= test6[1]\n",
        "  stat_dict.update( {'snapchat_residual' : p6} )\n",
        "  \n",
        "  #Method2 Differencing:\n",
        "  test2= check_stationary(sc.diff(1).dropna()) \n",
        "  p2= test2[1]\n",
        "  \n",
        "  test3= check_stationary(sc.diff(1).diff(12).dropna()); \n",
        "  p3= test3[1]\n",
        "  \n",
        "  test4= check_stationary((sc-snapchat_seasonal).diff(1).dropna()); \n",
        "  p4= test4[1]\n",
        "  \n",
        "  #stat_dict.update( {'snapchat_residual' : p6} )\n",
        "  stat_dict.update([ ('sc.diff(1)', p2) , ('sc.diff(1).diff(12)', p3) , ('(sc-snapchat_seasonal).diff(1)', p4)] )\n",
        "  \n",
        "  #Method3 Log Transformation (using shift):\n",
        "  log_series = np.log(sc)\n",
        "  log_series_shift = log_series - log_series.shift()\n",
        "  log_series_shift= log_series_shift.dropna()\n",
        "  test5 = check_stationary(log_series_shift)\n",
        "  p5 = test5[1]\n",
        "  \n",
        "  stat_dict.update( {'log_series_shift' : p5} )\n",
        "  \n",
        "  #Method 5 Eliminating trend and seasonality: Seasonal Differencing\n",
        "  sc_first_difference = sc - sc.shift(1) \n",
        "  test7= check_stationary(sc_first_difference.dropna(inplace=False))\n",
        "  p7= test7[1]\n",
        "  \n",
        "  sc_seasonal_difference = sc - sc.shift(12)  \n",
        "  test8= check_stationary(sc_seasonal_difference.dropna(inplace=False))\n",
        "  p8= test8[1]\n",
        "  \n",
        "  sc_seasonal_first_difference = sc_first_difference - sc_first_difference.shift(12)  \n",
        "  test9= check_stationary(sc_seasonal_first_difference.dropna(inplace=False))\n",
        "  p9= test9[1]\n",
        "  \n",
        "  stat_dict.update([ ('sc_first_difference', p7) , ('sc_seasonal_difference', p8) , ('sc_seasonal_first_difference', p9)] )\n",
        "  \n",
        "  d= min(stat_dict.iteritems(), key=itemgetter(1))\n",
        "  print('Best Method: {} p-value = {}'.format(d[0], d[1]))\n",
        "  \n",
        "  return eval(min(stat_dict.iteritems(), key=itemgetter(1))[0])\n",
        "  \n",
        "  "
      ],
      "execution_count": 0,
      "outputs": []
    },
    {
      "cell_type": "code",
      "metadata": {
        "colab_type": "code",
        "id": "x9TYzumh2M_w",
        "colab": {}
      },
      "source": [
        "# methods = ['sc_log_moving_avg_diff','snapchat_residual', 'Differencing 1', \\\n",
        "#            'Differencing 1 & 12','Differencing sc-snapchat_seasonal',      \\\n",
        "#            'log_series_shift','sc_first_difference','sc_seasonal_difference']\n",
        "\n",
        "# p_values= [1,2,3,4,5,6,7,8,9]\n",
        "\n",
        "# for n in range(len(methods)):\n",
        "#   print ('Method: {} achieved P-Value: {}').format(methods[n], p_values[n])\n",
        "\n",
        "#   methods = ['sc_log_moving_avg_diff','snapchat_residual', 'Differencing 1', \\\n",
        "#              'Differencing 1 & 12','Differencing sc-snapchat_seasonal',      \\\n",
        "#              'log_series_shift','sc_first_difference','sc_seasonal_difference']\n",
        "  \n",
        "#   for p, m in zip([p1,p2,p3,p4,p5,p6,p7,p8,p9], methods):\n",
        "#     print ('Method: {} achieved P-Value: {}').format(m,p)\n",
        "#     if p.min():\n",
        "#       print m,p\n",
        "  \n",
        "#   return min(p1,p2,p3,p4,p5,p6,p7,p8,p9)"
      ],
      "execution_count": 0,
      "outputs": []
    },
    {
      "cell_type": "code",
      "metadata": {
        "colab_type": "code",
        "id": "rpz49RgOUgmB",
        "colab": {}
      },
      "source": [
        "stationarize(snapchat_billings)"
      ],
      "execution_count": 0,
      "outputs": []
    },
    {
      "cell_type": "code",
      "metadata": {
        "colab_type": "code",
        "id": "oZEc9brMhxPe",
        "colab": {}
      },
      "source": [
        "from statsmodels.tsa.arima_process import arma_generate_sample\n",
        "import statsmodels.api as sm\n",
        "import numpy as np"
      ],
      "execution_count": 0,
      "outputs": []
    },
    {
      "cell_type": "code",
      "metadata": {
        "colab_type": "code",
        "id": "-eklXqXBjtjY",
        "colab": {}
      },
      "source": [
        "train= (sc-snapchat_seasonal).diff(1).dropna()"
      ],
      "execution_count": 0,
      "outputs": []
    },
    {
      "cell_type": "code",
      "metadata": {
        "colab_type": "code",
        "id": "5SLa41WfXFCQ",
        "colab": {}
      },
      "source": [
        "res = sm.tsa.arma_order_select_ic(train, ic=['aic', 'bic'], trend='nc')\n",
        "res.aic_min_order\n",
        "res.bic_min_order"
      ],
      "execution_count": 0,
      "outputs": []
    },
    {
      "cell_type": "code",
      "metadata": {
        "colab_type": "code",
        "id": "jksG5D5mlGFe",
        "colab": {}
      },
      "source": [
        "train=train.astype(np.int)"
      ],
      "execution_count": 0,
      "outputs": []
    },
    {
      "cell_type": "code",
      "metadata": {
        "colab_type": "code",
        "id": "0d1q4O4GngKw",
        "colab": {}
      },
      "source": [
        "train"
      ],
      "execution_count": 0,
      "outputs": []
    },
    {
      "cell_type": "code",
      "metadata": {
        "colab_type": "code",
        "id": "N6B_gTnPkWbi",
        "colab": {}
      },
      "source": [
        "model = ARIMA(sc, order=(1,1,0))  \n",
        "snapchat_model = model.fit()\n",
        "\n",
        "snapchat_model.plot_predict(start='2016-12-01', end='2022-01-01', alpha=.10)\n",
        "despine(plt.gca()) \n",
        "plt.xlabel('Year')\n",
        "plt.legend(loc='upper left');\n",
        "\n",
        "print(snapchat_model.aic, snapchat_model.bic)\n",
        "\n",
        "snapchat_model.predict(start='2016-02-01', end='2020-01-01',typ='levels')\n",
        "\n",
        "#model_1predictions= snapchat_model.predict(start='2016-12-01', end='2020-01-01',typ='levels')\n",
        "\n",
        "# forecast_accuracy=(((((fullsales - model_1predictions) / fullsales) * 100).abs())-100).abs()\n",
        "# forecast_accuracy['2016-12-01':'2018-06-01']"
      ],
      "execution_count": 0,
      "outputs": []
    },
    {
      "cell_type": "code",
      "metadata": {
        "colab_type": "code",
        "id": "p7qVlCDDkWYA",
        "colab": {}
      },
      "source": [
        ""
      ],
      "execution_count": 0,
      "outputs": []
    },
    {
      "cell_type": "markdown",
      "metadata": {
        "colab_type": "text",
        "id": "HCR4tsc-4NNN"
      },
      "source": [
        "## Decomposing components"
      ]
    },
    {
      "cell_type": "code",
      "metadata": {
        "colab_type": "code",
        "collapsed": true,
        "id": "v-0NBLeS6T82",
        "colab": {}
      },
      "source": [
        "from statsmodels.tsa.seasonal import seasonal_decompose\n",
        "snapchat_decomp = seasonal_decompose(snapchat, freq=12)"
      ],
      "execution_count": 0,
      "outputs": []
    },
    {
      "cell_type": "code",
      "metadata": {
        "colab_type": "code",
        "collapsed": true,
        "id": "IjfIRYky6T84",
        "colab": {}
      },
      "source": [
        "snapchat_trend = snapchat_decomp.trend\n",
        "snapchat_seasonal = snapchat_decomp.seasonal\n",
        "snapchat_residual = snapchat_decomp.resid"
      ],
      "execution_count": 0,
      "outputs": []
    },
    {
      "cell_type": "code",
      "metadata": {
        "colab_type": "code",
        "collapsed": true,
        "id": "cxPYghyH6T86",
        "colab": {}
      },
      "source": [
        "def change_plot(ax):\n",
        "    despine(ax)\n",
        "    ax.locator_params(axis='y', nbins=5)\n",
        "    plt.setp(ax.get_xticklabels(), rotation=90, ha='center')\n",
        "\n",
        "plt.figure(figsize=(9,4.5))\n",
        "\n",
        "plt.subplot(221)\n",
        "plt.plot(snapchat, color='Green')\n",
        "change_plot(plt.gca())\n",
        "plt.title('snapchat', color='Green')\n",
        "xl = plt.xlim()\n",
        "yl = plt.ylim()\n",
        "\n",
        "plt.subplot(222)\n",
        "plt.plot(snapchat.index,snapchat_trend, \n",
        "         color='Coral')\n",
        "change_plot(plt.gca())\n",
        "plt.title('Trend', color='Coral')\n",
        "plt.gca().yaxis.tick_right()\n",
        "plt.gca().yaxis.set_label_position(\"right\")\n",
        "plt.xlim(xl)\n",
        "plt.ylim(yl)\n",
        "\n",
        "plt.subplot(223)\n",
        "plt.plot(snapchat.index,snapchat_seasonal, \n",
        "         color='SteelBlue')\n",
        "change_plot(plt.gca())\n",
        "plt.gca().xaxis.tick_top()\n",
        "plt.gca().xaxis.set_major_formatter(plt.NullFormatter())\n",
        "plt.xlabel('Seasonality', color='SteelBlue', labelpad=-20)\n",
        "plt.xlim(xl)\n",
        "plt.ylim((-8000,8000))\n",
        "\n",
        "plt.subplot(224)\n",
        "plt.plot(snapchat.index,snapchat_residual,\n",
        "        color='IndianRed')\n",
        "change_plot(plt.gca())\n",
        "plt.xlim(xl)\n",
        "plt.gca().yaxis.tick_right()\n",
        "plt.gca().yaxis.set_label_position(\"right\")\n",
        "plt.gca().xaxis.tick_top()\n",
        "plt.gca().xaxis.set_major_formatter(plt.NullFormatter())\n",
        "plt.ylim((-8000,8000))\n",
        "plt.xlabel('Residuals', color='IndianRed', labelpad=-20)\n",
        "\n",
        "plt.tight_layout()\n",
        "plt.subplots_adjust(hspace=0.55)"
      ],
      "execution_count": 0,
      "outputs": []
    },
    {
      "cell_type": "code",
      "metadata": {
        "colab_type": "code",
        "collapsed": true,
        "id": "umF-2naO6T8-",
        "colab": {}
      },
      "source": [
        "fig = plt.figure(figsize=(10,5) )\n",
        "\n",
        "ax1 = fig.add_axes([0.1,0.1,0.6,0.9])\n",
        "ax1.plot(snapchat-snapchat_trend, \n",
        "         color='Green', label='Detrended data')\n",
        "ax1.plot(snapchat_seasonal, \n",
        "         color='Coral', label='Seasonal component')\n",
        "kwrds=dict(lw=1.5, color='0.6', alpha=0.8)\n",
        "d1 = pd.datetime(2015,1,1)\n",
        "dd = pd.Timedelta('365 Days')\n",
        "[ax1.axvline(d1+dd*i, dashes=(3,5),**kwrds) for i in range(9)]\n",
        "d2 = pd.datetime(2015,3,1)\n",
        "[ax1.axvline(d2+dd*i, dashes=(2,2),**kwrds) for i in range(9)]\n",
        "ax1.set_ylim((-12000,10000))\n",
        "\n",
        "ax1.locator_params(axis='y', nbins=4)\n",
        "ax1.set_xlabel('Year')\n",
        "ax1.set_title('snapchat Seasonality')\n",
        "ax1.set_ylabel('snapchat')\n",
        "ax1.legend(loc=0, ncol=2, frameon=True);\n",
        "\n",
        "ax2 = fig.add_axes([0.8,0.1,0.4,0.9])\n",
        "ax2.plot(snapchat_seasonal['2015':'2018'], \n",
        "         color='Coral', label='Seasonal component')\n",
        "ax2.set_ylim((-12000,10000))\n",
        "[ax2.axvline(d1+dd*i, dashes=(3,5),**kwrds) for i in range(1)]\n",
        "d2 = pd.datetime(2015,3,1)\n",
        "[ax2.axvline(d2+dd*i, dashes=(2,2),**kwrds) for i in range(1)]\n",
        "despine([ax1, ax2])\n",
        "\n",
        "import matplotlib.dates as mpldates\n",
        "yrsfmt = mpldates.DateFormatter('%b')\n",
        "ax2.xaxis.set_major_formatter(yrsfmt)\n",
        "labels = ax2.get_xticklabels()\n",
        "plt.setp(labels, rotation=90);"
      ],
      "execution_count": 0,
      "outputs": []
    },
    {
      "cell_type": "code",
      "metadata": {
        "colab_type": "code",
        "collapsed": true,
        "id": "da9-7HBt6T9B",
        "colab": {}
      },
      "source": [
        "snapchat_seasonal_component = snapchat_seasonal['2015'].values\n",
        "snapchat_seasonal_component"
      ],
      "execution_count": 0,
      "outputs": []
    },
    {
      "cell_type": "code",
      "metadata": {
        "colab_type": "code",
        "collapsed": true,
        "id": "PwTcJkSK6T9E",
        "colab": {}
      },
      "source": [
        "snapchat_residual.dropna(inplace=True)\n",
        "is_stationary(snapchat_residual.dropna());"
      ],
      "execution_count": 0,
      "outputs": []
    },
    {
      "cell_type": "code",
      "metadata": {
        "colab_type": "code",
        "collapsed": true,
        "id": "TOvdeeMS6T9I",
        "colab": {}
      },
      "source": [
        "snapchat_residual"
      ],
      "execution_count": 0,
      "outputs": []
    },
    {
      "cell_type": "code",
      "metadata": {
        "colab_type": "code",
        "collapsed": true,
        "id": "Wnmp9gdc6T9L",
        "colab": {}
      },
      "source": [
        "loc, shape = st.norm.fit(snapchat_residual)\n",
        "x=range(-3000,3000)\n",
        "y = st.norm.pdf(x, loc, shape)\n",
        "n, bins, patches = plt.hist(snapchat_residual, bins=20, normed=True)\n",
        "plt.plot(x,y, color='Coral')\n",
        "despine(plt.gca())\n",
        "plt.title('Residuals')\n",
        "plt.xlabel('Value'); plt.ylabel('Counts');"
      ],
      "execution_count": 0,
      "outputs": []
    },
    {
      "cell_type": "code",
      "metadata": {
        "colab_type": "code",
        "collapsed": true,
        "id": "AvX3TuXT6T9N",
        "colab": {}
      },
      "source": [
        "(osm,osr), (slope, intercept, r) = st.probplot(snapchat_residual, dist='norm', fit=True)\n",
        "line_func = lambda x: slope*x + intercept\n",
        "plt.plot(osm,osr,\n",
        "         '.', label='Data', color='Coral')\n",
        "plt.plot(osm, line_func(osm), \n",
        "         color='SteelBlue',\n",
        "         dashes=(20,5), label='Fit')\n",
        "plt.xlabel('Quantiles'); plt.ylabel('Ordered Values')\n",
        "despine(plt.gca())\n",
        "plt.text(1, -14, 'R$^2$={0:.3f}'.format(r))\n",
        "plt.title('Probability Plot')\n",
        "plt.legend(loc='best', numpoints=4, handlelength=4);"
      ],
      "execution_count": 0,
      "outputs": []
    },
    {
      "cell_type": "code",
      "metadata": {
        "colab_type": "code",
        "collapsed": true,
        "id": "UGnkvAaE6T9Q",
        "colab": {}
      },
      "source": [
        "snapchat.diff(1).plot(label='1 period', title='Snapchat Billings')\n",
        "plt.legend(loc='best')\n",
        "despine(plt.gca())"
      ],
      "execution_count": 0,
      "outputs": []
    },
    {
      "cell_type": "code",
      "metadata": {
        "colab_type": "code",
        "collapsed": true,
        "id": "ASulbilF6T9U",
        "colab": {}
      },
      "source": [
        "is_stationary(snapchat.diff(1).dropna());\n"
      ],
      "execution_count": 0,
      "outputs": []
    },
    {
      "cell_type": "code",
      "metadata": {
        "colab_type": "code",
        "collapsed": true,
        "id": "Nf3LMPMc6T9W",
        "colab": {}
      },
      "source": [
        "sales.diff(1).plot(label='1 period', title='Partner sales',\n",
        "                      dashes=(15,5))\n",
        "sales.diff(1).diff(12).plot(label='1 and 12 period(s)',\n",
        "                               color='Coral')\n",
        "plt.legend(loc='best')\n",
        "despine(plt.gca())\n",
        "plt.xlabel('Date')"
      ],
      "execution_count": 0,
      "outputs": []
    },
    {
      "cell_type": "code",
      "metadata": {
        "colab_type": "code",
        "collapsed": true,
        "id": "sY5cf7HV6T9Z",
        "colab": {}
      },
      "source": [
        "is_stationary(sales.diff(1).diff(12).dropna());\n"
      ],
      "execution_count": 0,
      "outputs": []
    },
    {
      "cell_type": "code",
      "metadata": {
        "colab_type": "code",
        "collapsed": true,
        "id": "yATm8DvY6T9b",
        "colab": {}
      },
      "source": [
        ""
      ],
      "execution_count": 0,
      "outputs": []
    },
    {
      "cell_type": "code",
      "metadata": {
        "colab_type": "code",
        "collapsed": true,
        "id": "1-9eDZkk6T9c",
        "colab": {}
      },
      "source": [
        "sales.diff(1).plot(label='1 period', title='Partner sales',\n",
        "                      dashes=(15,5))\n",
        "sales.diff(1).diff(12).plot(label='1 and 12 period(s)',\n",
        "                               color='Coral')\n",
        "plt.legend(loc='best')\n",
        "despine(plt.gca())\n",
        "plt.xlabel('Date')"
      ],
      "execution_count": 0,
      "outputs": []
    },
    {
      "cell_type": "code",
      "metadata": {
        "colab_type": "code",
        "collapsed": true,
        "id": "5o3gVN9M6T9g",
        "colab": {}
      },
      "source": [
        "is_stationary(sales.diff(1).diff(12).dropna());\n"
      ],
      "execution_count": 0,
      "outputs": []
    },
    {
      "cell_type": "code",
      "metadata": {
        "colab_type": "code",
        "collapsed": true,
        "id": "jD4UYfof6T9j",
        "colab": {}
      },
      "source": [
        ""
      ],
      "execution_count": 0,
      "outputs": []
    },
    {
      "cell_type": "markdown",
      "metadata": {
        "colab_type": "text",
        "id": "8_f64jG06T9k"
      },
      "source": [
        "# Time series Models"
      ]
    },
    {
      "cell_type": "code",
      "metadata": {
        "colab_type": "code",
        "collapsed": true,
        "id": "S3Lqy4Wz6T9l",
        "colab": {}
      },
      "source": [
        "from statsmodels.tsa.arima_model import ARIMA\n"
      ],
      "execution_count": 0,
      "outputs": []
    },
    {
      "cell_type": "code",
      "metadata": {
        "colab_type": "code",
        "collapsed": true,
        "id": "ktOqnhoi6T9m",
        "colab": {}
      },
      "source": [
        "is_stationary((sales-sales_seasonal).diff(1).dropna());\n"
      ],
      "execution_count": 0,
      "outputs": []
    },
    {
      "cell_type": "code",
      "metadata": {
        "colab_type": "code",
        "collapsed": true,
        "id": "2lQ75CIY6T9p",
        "colab": {}
      },
      "source": [
        "ts = sales-sales_seasonal.dropna()\n",
        "tsdiff = ts.diff(1)"
      ],
      "execution_count": 0,
      "outputs": []
    },
    {
      "cell_type": "code",
      "metadata": {
        "colab_type": "code",
        "collapsed": true,
        "id": "ATv5jWkZ6T9q",
        "colab": {}
      },
      "source": [
        "ts"
      ],
      "execution_count": 0,
      "outputs": []
    },
    {
      "cell_type": "code",
      "metadata": {
        "colab_type": "code",
        "collapsed": true,
        "id": "_uQDIQZk6T9u",
        "colab": {}
      },
      "source": [
        "is_stationary((ts).dropna());\n"
      ],
      "execution_count": 0,
      "outputs": []
    },
    {
      "cell_type": "code",
      "metadata": {
        "colab_type": "code",
        "collapsed": true,
        "id": "mn4iXg4E6T9w",
        "colab": {}
      },
      "source": [
        "is_stationary(ts);\n"
      ],
      "execution_count": 0,
      "outputs": []
    },
    {
      "cell_type": "code",
      "metadata": {
        "colab_type": "code",
        "collapsed": true,
        "id": "QER9_48i6T9y",
        "colab": {}
      },
      "source": [
        "plt.plot(ts) # was tsdiff before this\n"
      ],
      "execution_count": 0,
      "outputs": []
    },
    {
      "cell_type": "code",
      "metadata": {
        "colab_type": "code",
        "collapsed": true,
        "id": "AHvuvBw76T90",
        "colab": {}
      },
      "source": [
        "model = ARIMA(ts, order=(3, 1, 1))  \n",
        "arres = model.fit()"
      ],
      "execution_count": 0,
      "outputs": []
    },
    {
      "cell_type": "code",
      "metadata": {
        "colab_type": "code",
        "collapsed": true,
        "id": "cAou4LM26T92",
        "colab": {}
      },
      "source": [
        "arres.plot_predict(start='2016-01-01', end='2018-08-01', alpha=0.10)\n",
        "plt.legend(loc='upper left')\n",
        "print(arres.aic, arres.bic)"
      ],
      "execution_count": 0,
      "outputs": []
    },
    {
      "cell_type": "code",
      "metadata": {
        "colab_type": "code",
        "collapsed": true,
        "id": "9Jc8g8EG6T95",
        "colab": {}
      },
      "source": [
        "model = ARIMA(ts, order=(1, 1, 1))  \n",
        "mares = model.fit()"
      ],
      "execution_count": 0,
      "outputs": []
    },
    {
      "cell_type": "markdown",
      "metadata": {
        "colab_type": "text",
        "id": "KIIt647ZL-tY"
      },
      "source": [
        "# AUTO SELECTING P , D , Q"
      ]
    },
    {
      "cell_type": "code",
      "metadata": {
        "colab_type": "code",
        "collapsed": true,
        "id": "Juq06Z2hNBDi",
        "colab": {}
      },
      "source": [
        "from colabtools import adhoc_import"
      ],
      "execution_count": 0,
      "outputs": []
    },
    {
      "cell_type": "code",
      "metadata": {
        "colab_type": "code",
        "collapsed": true,
        "id": "096XOLwxM53I",
        "colab": {}
      },
      "source": [
        "with adhoc_import.Google3():\n",
        "  from google3.experimental.users.henrylee.py import more_ranklab_utils"
      ],
      "execution_count": 0,
      "outputs": []
    },
    {
      "cell_type": "code",
      "metadata": {
        "colab_type": "code",
        "collapsed": true,
        "id": "0H2DkZRLMDtT",
        "colab": {}
      },
      "source": [
        "from statsmodels.tsa.arima_model import ARIMA\n",
        "import pmdarima as pm\n",
        "\n",
        "df = pd.read_csv('https://raw.githubusercontent.com/selva86/datasets/master/wwwusage.csv', names=['value'], header=0)\n",
        "\n",
        "model = pm.auto_arima(df.value, start_p=1, start_q=1,\n",
        "                      test='adf',       # use adftest to find optimal 'd'\n",
        "                      max_p=3, max_q=3, # maximum p and q\n",
        "                      m=1,              # frequency of series\n",
        "                      d=None,           # let model determine 'd'\n",
        "                      seasonal=False,   # No Seasonality\n",
        "                      start_P=0, \n",
        "                      D=0, \n",
        "                      trace=True,\n",
        "                      error_action='ignore',  \n",
        "                      suppress_warnings=True, \n",
        "                      stepwise=True)\n",
        "\n",
        "print(model.summary())"
      ],
      "execution_count": 0,
      "outputs": []
    },
    {
      "cell_type": "markdown",
      "metadata": {
        "colab_type": "text",
        "id": "DzoM9dWg6T9-"
      },
      "source": [
        "# Selecting p and q"
      ]
    },
    {
      "cell_type": "code",
      "metadata": {
        "colab_type": "code",
        "collapsed": true,
        "id": "V2UKnGSZ6T9_",
        "colab": {}
      },
      "source": [
        "tsa.stattools.arma_order_select_ic(tsdiff.dropna(), max_ar=3, max_ma=3, ic='aic')\n"
      ],
      "execution_count": 0,
      "outputs": []
    },
    {
      "cell_type": "code",
      "metadata": {
        "colab_type": "code",
        "collapsed": true,
        "id": "AAxh4y3a6T-B",
        "colab": {}
      },
      "source": [
        "tsa.stattools.arma_order_select_ic(tsdiff.dropna(), max_ar=3, max_ma=3, ic='bic')\n"
      ],
      "execution_count": 0,
      "outputs": []
    },
    {
      "cell_type": "markdown",
      "metadata": {
        "colab_type": "text",
        "id": "yvNiAUFk6T-D"
      },
      "source": [
        "# Selecting p and q using sales_residual.dropna()\n"
      ]
    },
    {
      "cell_type": "code",
      "metadata": {
        "colab_type": "code",
        "collapsed": true,
        "id": "P2reCVAN6T-D",
        "colab": {}
      },
      "source": [
        "tsa.stattools.arma_order_select_ic(ts, max_ar=3, max_ma=3, ic='aic')\n"
      ],
      "execution_count": 0,
      "outputs": []
    },
    {
      "cell_type": "code",
      "metadata": {
        "colab_type": "code",
        "collapsed": true,
        "id": "jZ8MjmSq6T-F",
        "colab": {}
      },
      "source": [
        "tsa.stattools.arma_order_select_ic(ts, max_ar=3, max_ma=3, ic='bic')\n"
      ],
      "execution_count": 0,
      "outputs": []
    },
    {
      "cell_type": "markdown",
      "metadata": {
        "colab_type": "text",
        "id": "5Xf4XZ046T-I"
      },
      "source": [
        "# Selecting p and q using sales_residual.dropna()"
      ]
    },
    {
      "cell_type": "code",
      "metadata": {
        "colab_type": "code",
        "collapsed": true,
        "id": "9YmHqD9p6T-J",
        "colab": {}
      },
      "source": [
        "tsa.stattools.arma_order_select_ic(sales_residual.dropna(), max_ar=3, max_ma=3, ic='aic')\n"
      ],
      "execution_count": 0,
      "outputs": []
    },
    {
      "cell_type": "code",
      "metadata": {
        "colab_type": "code",
        "collapsed": true,
        "id": "hp8kOoM76T-K",
        "colab": {}
      },
      "source": [
        "tsa.stattools.arma_order_select_ic(sales_residual.dropna(), max_ar=3, max_ma=3, ic='bic')\n"
      ],
      "execution_count": 0,
      "outputs": []
    },
    {
      "cell_type": "code",
      "metadata": {
        "colab_type": "code",
        "collapsed": true,
        "id": "hYuhCHW36T-R",
        "colab": {}
      },
      "source": [
        "acf = stt.acf(ts, nlags=5)\n",
        "pacf = stt.pacf(ts, nlags=5)"
      ],
      "execution_count": 0,
      "outputs": []
    },
    {
      "cell_type": "code",
      "metadata": {
        "colab_type": "code",
        "collapsed": true,
        "id": "xY986D9E6T-S",
        "colab": {}
      },
      "source": [
        "y=-1.96/np.sqrt(len(ts))\n",
        "y"
      ],
      "execution_count": 0,
      "outputs": []
    },
    {
      "cell_type": "code",
      "metadata": {
        "colab_type": "code",
        "collapsed": true,
        "id": "BHFTt-Zu6T-U",
        "colab": {}
      },
      "source": [
        "fig, (ax1, ax2) = plt.subplots(1,2, figsize=(8,2))\n",
        "ax1.axhline(y=0,color='gray')\n",
        "ax1.axhline(y=-1.96/np.sqrt(len(ts)),linestyle='--',color='gray')\n",
        "ax1.axhline(y=1.96/np.sqrt(len(ts)),linestyle='--',color='gray')\n",
        "ax1.axvline(x=1,ls=':',color='gray')\n",
        "ax1.plot(acf)\n",
        "ax1.set_title('ACF')\n",
        "\n",
        "ax2.axhline(y=0,color='gray')\n",
        "ax2.axhline(y=-1.96/np.sqrt(len(ts)),linestyle='--',color='gray')\n",
        "ax2.axhline(y=1.96/np.sqrt(len(ts)),linestyle='--',color='gray')\n",
        "ax2.axvline(x=1,ls=':',color='gray')\n",
        "ax2.plot(pacf)\n",
        "ax2.set_title('PACF')\n",
        "\n",
        "despine([ax1,ax2])"
      ],
      "execution_count": 0,
      "outputs": []
    },
    {
      "cell_type": "code",
      "metadata": {
        "colab_type": "code",
        "collapsed": true,
        "id": "TuvepZ6C6T-W",
        "colab": {}
      },
      "source": [
        "ts"
      ],
      "execution_count": 0,
      "outputs": []
    },
    {
      "cell_type": "markdown",
      "metadata": {
        "colab_type": "text",
        "id": "GJWiR5BE6T-Z"
      },
      "source": [
        "# Autoregressive Integrated Moving Average – ARIMA\n"
      ]
    },
    {
      "cell_type": "code",
      "metadata": {
        "colab_type": "code",
        "collapsed": true,
        "id": "1ADc7Wi36T-a",
        "colab": {}
      },
      "source": [
        "fullsales = pd.read_excel('ML Trial.xlsx', sheet_name='Copy of ML TRIAL',\n",
        "                   parse_dates=['booking_month'], \n",
        "                   index_col='booking_month', \n",
        "                   )"
      ],
      "execution_count": 0,
      "outputs": []
    },
    {
      "cell_type": "code",
      "metadata": {
        "colab_type": "code",
        "collapsed": true,
        "id": "TWVy_aDm6T-c",
        "colab": {}
      },
      "source": [
        "fullsales= fullsales['monthlybookings']"
      ],
      "execution_count": 0,
      "outputs": []
    },
    {
      "cell_type": "code",
      "metadata": {
        "colab_type": "code",
        "collapsed": true,
        "id": "iU8lo_HS6T-d",
        "colab": {}
      },
      "source": [
        "fullsales"
      ],
      "execution_count": 0,
      "outputs": []
    },
    {
      "cell_type": "code",
      "metadata": {
        "colab_type": "code",
        "collapsed": true,
        "id": "gFdjwxyL6T-e",
        "colab": {}
      },
      "source": [
        "model = ARIMA(ts, order=(0,1,1))  \n",
        "arimares = model.fit()"
      ],
      "execution_count": 0,
      "outputs": []
    },
    {
      "cell_type": "code",
      "metadata": {
        "colab_type": "code",
        "collapsed": true,
        "id": "v-yE2wBW6T-h",
        "colab": {}
      },
      "source": [
        "arimares.plot_predict(start='2016-12-01', end='2020-01-01', alpha=.10)\n",
        "plt.legend(loc='upper left');\n",
        "print(arimares.aic, arimares.bic)"
      ],
      "execution_count": 0,
      "outputs": []
    },
    {
      "cell_type": "code",
      "metadata": {
        "colab_type": "code",
        "collapsed": true,
        "id": "wGJwvjYy6T-j",
        "colab": {}
      },
      "source": [
        "arimares.predict(start='2016-12-01', end='2020-01-01',typ='levels')"
      ],
      "execution_count": 0,
      "outputs": []
    },
    {
      "cell_type": "code",
      "metadata": {
        "colab_type": "code",
        "collapsed": true,
        "id": "eCu58gTe6T-m",
        "colab": {}
      },
      "source": [
        "model_1predictions= arimares.predict(start='2016-12-01', end='2020-01-01',typ='levels')"
      ],
      "execution_count": 0,
      "outputs": []
    },
    {
      "cell_type": "code",
      "metadata": {
        "colab_type": "code",
        "collapsed": true,
        "id": "nRM5vbHz6T-p",
        "colab": {}
      },
      "source": [
        "forecast_accuracy=(((((fullsales - model_1predictions) / fullsales) * 100).abs())-100).abs()\n",
        "forecast_accuracy['2016-12-01':'2018-06-01']"
      ],
      "execution_count": 0,
      "outputs": []
    },
    {
      "cell_type": "code",
      "metadata": {
        "colab_type": "code",
        "collapsed": true,
        "id": "hSzICyrC6T-s",
        "colab": {}
      },
      "source": [
        "model = ARIMA(ts, order=(0,2,1))  \n",
        "arimares = model.fit()"
      ],
      "execution_count": 0,
      "outputs": []
    },
    {
      "cell_type": "code",
      "metadata": {
        "colab_type": "code",
        "collapsed": true,
        "id": "FqlhELco6T-u",
        "colab": {}
      },
      "source": [
        "arimares.plot_predict(start='2016-12-01', end='2020-01-01', alpha=.10)\n",
        "plt.legend(loc='upper left');\n",
        "print(arimares.aic, arimares.bic)"
      ],
      "execution_count": 0,
      "outputs": []
    },
    {
      "cell_type": "code",
      "metadata": {
        "colab_type": "code",
        "collapsed": true,
        "id": "swAIiqy66T-v",
        "colab": {}
      },
      "source": [
        "arimares.predict(start='2016-12-01', end='2020-01-01',typ='levels')"
      ],
      "execution_count": 0,
      "outputs": []
    },
    {
      "cell_type": "code",
      "metadata": {
        "colab_type": "code",
        "collapsed": true,
        "id": "SQuTOz7g6T-x",
        "colab": {}
      },
      "source": [
        "model_2predictions= arimares.predict(start='2016-12-01', end='2020-01-01',typ='levels')"
      ],
      "execution_count": 0,
      "outputs": []
    },
    {
      "cell_type": "code",
      "metadata": {
        "colab_type": "code",
        "collapsed": true,
        "id": "rX6LLkwO6T-z",
        "colab": {}
      },
      "source": [
        "forecast_accuracy2=(((((fullsales - model_2predictions) / fullsales) * 100).abs())-100).abs()\n",
        "forecast_accuracy2['2016-12-01':'2018-06-01']"
      ],
      "execution_count": 0,
      "outputs": []
    },
    {
      "cell_type": "code",
      "metadata": {
        "colab_type": "code",
        "collapsed": true,
        "id": "MdgifjvQ6T-1",
        "colab": {}
      },
      "source": [
        "fullsales"
      ],
      "execution_count": 0,
      "outputs": []
    },
    {
      "cell_type": "code",
      "metadata": {
        "colab_type": "code",
        "collapsed": true,
        "id": "Ah76hd-I6T-8",
        "colab": {}
      },
      "source": [
        "model = ARIMA(ts, order=(0,2,1))  \n",
        "arimares = model.fit()"
      ],
      "execution_count": 0,
      "outputs": []
    },
    {
      "cell_type": "code",
      "metadata": {
        "colab_type": "code",
        "collapsed": true,
        "id": "pWI4AU5c6T-_",
        "colab": {}
      },
      "source": [
        "arimares.plot_predict(start='2016-12-01', end='2020-01-01', alpha=.10)\n",
        "plt.legend(loc='upper left');\n",
        "print(arimares.aic, arimares.bic)"
      ],
      "execution_count": 0,
      "outputs": []
    },
    {
      "cell_type": "code",
      "metadata": {
        "colab_type": "code",
        "collapsed": true,
        "id": "4Tbrme4O6T_B",
        "colab": {}
      },
      "source": [
        "arimares.predict(start='2016-12-01', end='2020-01-01',typ='levels')"
      ],
      "execution_count": 0,
      "outputs": []
    },
    {
      "cell_type": "code",
      "metadata": {
        "colab_type": "code",
        "collapsed": true,
        "id": "z8rL87vT6T_F",
        "colab": {}
      },
      "source": [
        "model_3predictions=arimares.predict(start='2016-12-01', end='2020-01-01',typ='levels')"
      ],
      "execution_count": 0,
      "outputs": []
    },
    {
      "cell_type": "code",
      "metadata": {
        "colab_type": "code",
        "collapsed": true,
        "id": "B3HV0nAO6T_H",
        "colab": {}
      },
      "source": [
        "forecast_accuracy3=(((((fullsales - model_3predictions) / fullsales) * 100).abs())-100).abs()\n",
        "forecast_accuracy3['2016-12-01':'2018-06-01']\n"
      ],
      "execution_count": 0,
      "outputs": []
    },
    {
      "cell_type": "code",
      "metadata": {
        "colab_type": "code",
        "collapsed": true,
        "id": "tbpe3vCE6T_I",
        "colab": {}
      },
      "source": [
        "forecast_accuracypercents= forecast_accuracy3['2016-12-01':'2018-06-01']\n",
        "forecast_accuracypercents.shape"
      ],
      "execution_count": 0,
      "outputs": []
    },
    {
      "cell_type": "markdown",
      "metadata": {
        "colab_type": "text",
        "id": "paeyn0UB6T_3"
      },
      "source": [
        "# Combined Model"
      ]
    },
    {
      "cell_type": "code",
      "metadata": {
        "colab_type": "code",
        "collapsed": true,
        "id": "2W6UFfs06T_4",
        "scrolled": true,
        "colab": {}
      },
      "source": [
        "model = ARIMA(ts_log.dropna(), order=(0, 1, 1))  \n",
        "results_ARIMA = model.fit(disp=-1)  \n",
        "plt.plot(ts_log_diff)\n",
        "plt.plot(results_ARIMA.fittedvalues, color='red')\n",
        "plt.title('RSS: %.4f'% sum((results_ARIMA.fittedvalues-ts_log_diff)**2))"
      ],
      "execution_count": 0,
      "outputs": []
    },
    {
      "cell_type": "code",
      "metadata": {
        "colab_type": "code",
        "collapsed": true,
        "id": "2zR15BaX6T_-",
        "colab": {}
      },
      "source": [
        "predictions_ARIMA_diff = pd.Series(results_ARIMA.fittedvalues, copy=True)\n",
        "predictions_ARIMA_diff.head()\n"
      ],
      "execution_count": 0,
      "outputs": []
    },
    {
      "cell_type": "code",
      "metadata": {
        "colab_type": "code",
        "collapsed": true,
        "id": "7V8BtD_J6T__",
        "colab": {}
      },
      "source": [
        "predictions_ARIMA_diff_cumsum = predictions_ARIMA_diff.cumsum()\n",
        "\n",
        "predictions_ARIMA_diff_cumsum"
      ],
      "execution_count": 0,
      "outputs": []
    },
    {
      "cell_type": "code",
      "metadata": {
        "colab_type": "code",
        "collapsed": true,
        "id": "RokHwy8a6UAA",
        "colab": {}
      },
      "source": [
        "predictions_ARIMA_log = pd.Series(ts_log.ix[0], index=ts_log.index)\n",
        "predictions_ARIMA_log = predictions_ARIMA_log.add(predictions_ARIMA_diff_cumsum,fill_value=0)\n",
        "predictions_ARIMA_log"
      ],
      "execution_count": 0,
      "outputs": []
    },
    {
      "cell_type": "code",
      "metadata": {
        "colab_type": "code",
        "collapsed": true,
        "id": "CSFLePlt6UAB",
        "colab": {}
      },
      "source": [
        ""
      ],
      "execution_count": 0,
      "outputs": []
    },
    {
      "cell_type": "code",
      "metadata": {
        "colab_type": "code",
        "collapsed": true,
        "id": "FWifwBzT6UAC",
        "colab": {}
      },
      "source": [
        "predictions_ARIMA = np.exp(predictions_ARIMA_log)\n",
        "predictions_ARIMA"
      ],
      "execution_count": 0,
      "outputs": []
    },
    {
      "cell_type": "code",
      "metadata": {
        "colab_type": "code",
        "collapsed": true,
        "id": "Zvuod_fj6UAE",
        "colab": {}
      },
      "source": [
        "np.sqrt(sum((predictions_ARIMA-ts)**2)/len(ts))"
      ],
      "execution_count": 0,
      "outputs": []
    },
    {
      "cell_type": "code",
      "metadata": {
        "colab_type": "code",
        "collapsed": true,
        "id": "iE86f7z_6UAF",
        "colab": {}
      },
      "source": [
        "predictions_ARIMA = np.exp(predictions_ARIMA_log)\n",
        "plt.plot(ts)\n",
        "plt.plot(predictions_ARIMA)\n",
        "plt.title('RMSE: %.4f'% np.sqrt(sum((predictions_ARIMA-ts)**2)/len(ts)))"
      ],
      "execution_count": 0,
      "outputs": []
    },
    {
      "cell_type": "code",
      "metadata": {
        "colab_type": "code",
        "collapsed": true,
        "id": "u8QjokxT6UAG",
        "colab": {}
      },
      "source": [
        "predictions_ARIMA"
      ],
      "execution_count": 0,
      "outputs": []
    },
    {
      "cell_type": "code",
      "metadata": {
        "colab_type": "code",
        "collapsed": true,
        "id": "n2eM5ixO6UAH",
        "colab": {}
      },
      "source": [
        "tsa.stattools.arma_order_select_ic(ts_log_diff.dropna(), max_ar=3, max_ma=3, ic='aic')\n"
      ],
      "execution_count": 0,
      "outputs": []
    },
    {
      "cell_type": "code",
      "metadata": {
        "colab_type": "code",
        "collapsed": true,
        "id": "6bcD-Rxf6UAJ",
        "colab": {}
      },
      "source": [
        "model = ARIMA(ts_log_diff, order=(0, 1, 1))  \n",
        "results_ARIMA = model.fit(disp=-1)  \n",
        "plt.plot(ts_log_diff)\n",
        "plt.plot(results_ARIMA.fittedvalues, color='red')\n",
        "plt.title('RSS: %.4f'% sum((results_ARIMA.fittedvalues-ts_log_diff)**2))"
      ],
      "execution_count": 0,
      "outputs": []
    },
    {
      "cell_type": "code",
      "metadata": {
        "colab_type": "code",
        "collapsed": true,
        "id": "OdUHdgbN6UAK",
        "colab": {}
      },
      "source": [
        "predictions_ARIMA_diff = pd.Series(results_ARIMA.fittedvalues, copy=True)\n",
        "predictions_ARIMA_diff"
      ],
      "execution_count": 0,
      "outputs": []
    },
    {
      "cell_type": "code",
      "metadata": {
        "colab_type": "code",
        "collapsed": true,
        "id": "MXeZ3zbI6UAM",
        "colab": {}
      },
      "source": [
        "predictions_ARIMA_diff_cumsum = predictions_ARIMA_diff.cumsum()\n",
        "\n",
        "predictions_ARIMA_diff_cumsum.head()"
      ],
      "execution_count": 0,
      "outputs": []
    },
    {
      "cell_type": "code",
      "metadata": {
        "colab_type": "code",
        "collapsed": true,
        "id": "gkuhZm3j6UAO",
        "colab": {}
      },
      "source": [
        "predictions_ARIMA_log = pd.Series(ts_log.ix[0], index=ts_log.index)\n",
        "predictions_ARIMA_log = predictions_ARIMA_log.add(predictions_ARIMA_diff_cumsum,fill_value=0)\n",
        "predictions_ARIMA_log"
      ],
      "execution_count": 0,
      "outputs": []
    },
    {
      "cell_type": "code",
      "metadata": {
        "colab_type": "code",
        "collapsed": true,
        "id": "AOoXZ1Kd6UAP",
        "colab": {}
      },
      "source": [
        "predictions_ARIMA = np.exp(predictions_ARIMA_log)\n",
        "predictions_ARIMA"
      ],
      "execution_count": 0,
      "outputs": []
    },
    {
      "cell_type": "markdown",
      "metadata": {
        "colab_type": "text",
        "id": "QQS4oOVGpW-S"
      },
      "source": [
        "# XGBoost"
      ]
    },
    {
      "cell_type": "code",
      "metadata": {
        "id": "BTIs__oJiPs3",
        "colab_type": "code",
        "colab": {}
      },
      "source": [
        "!pip install bayesian-optimization\n",
        "\n",
        "!pip install -U -q PyDrive"
      ],
      "execution_count": 0,
      "outputs": []
    },
    {
      "cell_type": "code",
      "metadata": {
        "colab_type": "code",
        "id": "t_EncwZ6-qf0",
        "colab": {}
      },
      "source": [
        "from sklearn.model_selection import train_test_split\n",
        "from sklearn.metrics import accuracy_score\n",
        "from sklearn.preprocessing import LabelEncoder\n",
        "from sklearn.metrics import mean_squared_error\n",
        "import xgboost\n",
        "from bayes_opt import BayesianOptimization\n",
        "import numpy as np\n",
        "import gspread\n",
        "from oauth2client.client import GoogleCredentials\n",
        "import pandas as pd\n",
        "\n",
        "from pydrive.auth import GoogleAuth\n",
        "from pydrive.drive import GoogleDrive\n",
        "from google.colab import auth\n",
        "from oauth2client.client import GoogleCredentials\n",
        "\n",
        "\n",
        "auth.authenticate_user()\n",
        "gauth = GoogleAuth()\n",
        "gauth.credentials = GoogleCredentials.get_application_default()\n",
        "drive = GoogleDrive(gauth)"
      ],
      "execution_count": 0,
      "outputs": []
    },
    {
      "cell_type": "markdown",
      "metadata": {
        "colab_type": "text",
        "id": "9Nj7G7Jp06GI"
      },
      "source": [
        "## Sales"
      ]
    },
    {
      "cell_type": "code",
      "metadata": {
        "id": "3XJIuH1Z74t6",
        "colab_type": "code",
        "colab": {}
      },
      "source": [
        "gc = gspread.authorize(GoogleCredentials.get_application_default())\n",
        "worksheet = gc.open('Sample - Superstore').sheet1\n",
        "rows = worksheet.get_all_values()\n",
        "df= pd.DataFrame.from_records(rows)"
      ],
      "execution_count": 0,
      "outputs": []
    },
    {
      "cell_type": "code",
      "metadata": {
        "id": "2BAfk1rK--5z",
        "colab_type": "code",
        "colab": {}
      },
      "source": [
        "new_header = df.iloc[0] #grab the first row for the header\n",
        "df = df[1:] #take the data less the header row\n",
        "df.columns = new_header\n",
        "\n",
        "\n",
        "#Expand feature list using Date Column\n",
        "df['Order Date']= pd.to_datetime(df['Order Date'])\n",
        "df['Month'] = df['Order Date'].dt.month\n",
        "df['Year'] = df['Order Date'].dt.year\n",
        "df['Quarter']= df['Order Date'].dt.quarter\n",
        "df['Week']= df['Order Date'].dt.week\n",
        "df['dayoftheweek']= df['Order Date'].dt.dayofweek\n",
        "\n",
        "df = df.drop(['Quantity','Discount','Profit', 'Ship Date', 'Order Date'], axis=1)"
      ],
      "execution_count": 0,
      "outputs": []
    },
    {
      "cell_type": "code",
      "metadata": {
        "id": "IbbofYJid5pY",
        "colab_type": "code",
        "colab": {}
      },
      "source": [
        "df= df[df['Year']!=2014]"
      ],
      "execution_count": 0,
      "outputs": []
    },
    {
      "cell_type": "code",
      "metadata": {
        "id": "rYXw6vVJ_xvt",
        "colab_type": "code",
        "colab": {}
      },
      "source": [
        "df.columns"
      ],
      "execution_count": 0,
      "outputs": []
    },
    {
      "cell_type": "code",
      "metadata": {
        "id": "KLZVWkMPFzOf",
        "colab_type": "code",
        "colab": {}
      },
      "source": [
        "df.loc[:, df.columns != 'Sales'].columns"
      ],
      "execution_count": 0,
      "outputs": []
    },
    {
      "cell_type": "code",
      "metadata": {
        "id": "I169_jjj74wH",
        "colab_type": "code",
        "colab": {}
      },
      "source": [
        "sales= pd.get_dummies(data=df, columns= df.loc[:, df.columns != 'Sales'].columns)\n",
        "sales['Sales']= pd.to_numeric(sales['Sales'])"
      ],
      "execution_count": 0,
      "outputs": []
    },
    {
      "cell_type": "code",
      "metadata": {
        "colab_type": "code",
        "id": "gH01xLmfdvtu",
        "colab": {}
      },
      "source": [
        "#Separate target variable and features\n",
        "X, y = sales.loc[:, sales.columns!='Sales'] , sales.loc[:, 'Sales']\n",
        "X_train, X_test, y_train, y_test = train_test_split(X, y, test_size=0.2, random_state=123)\n",
        "\n",
        "# encode string class values as integers\n",
        "# label_encoder = LabelEncoder()\n",
        "# label_encoder = label_encoder.fit(X['is_potential_fraud'])\n",
        "# X.loc[:, 'is_potential_fraud'] = label_encoder.transform(X['is_potential_fraud'])"
      ],
      "execution_count": 0,
      "outputs": []
    },
    {
      "cell_type": "code",
      "metadata": {
        "colab_type": "code",
        "id": "uW__EXAi1eOf",
        "colab": {}
      },
      "source": [
        "#MODEL #1 Very Basic - W/ No fine-tuning whatsoever\n",
        "\n",
        "data_dmatrix = xgboost.DMatrix(data=X,label=y)\n",
        "xg_reg = xgboost.XGBRegressor(objective ='reg:linear', colsample_bytree = 0.3, learning_rate = 0.1, max_depth = 5, alpha = 10, n_estimators = 10)\n",
        "xg_reg.fit(X_train, y_train)\n",
        "preds1 = xg_reg.predict(X_test)\n",
        "rmse = np.sqrt(mean_squared_error(y_test, preds1))\n",
        "print(\"RMSE: %f\" % (rmse))\n",
        "\n",
        "#pd.DataFrame(preds1)\n",
        "#pd.Series(preds1)\n",
        "\n",
        "(((((y_test - preds1) / y_test) * 100).abs())-100).abs(), \\\n",
        "SMAPE(preds1, y_test)"
      ],
      "execution_count": 0,
      "outputs": []
    },
    {
      "cell_type": "code",
      "metadata": {
        "colab_type": "code",
        "id": "WdNYqaxCXppp",
        "colab": {}
      },
      "source": [
        "def cv_boost(x_train):\n",
        "  \"\"\"Use CV function to tune hyperparameters and run cross-validation on our training dataset and returns a mean MAE score\"\"\"\n",
        "  dtrain = xgboost.DMatrix(x_train, label=y_train, feature_names=list(x_train.columns))\n",
        "\n",
        "  params = {'max_depth':4, 'objective': 'reg:linear',\n",
        "            'eta':0.085, 'gamma':10, 'silent':1, 'subsample':1}\n",
        "  num_rounds = 1500\n",
        "  cv_results = xgboost.cv(params, dtrain, num_boost_round=num_rounds, seed=42, nfold=5, metrics={'mae'}, early_stopping_rounds=10)\n",
        "  return cv_results\n",
        "\n",
        "cv_boost(X_train)"
      ],
      "execution_count": 0,
      "outputs": []
    },
    {
      "cell_type": "code",
      "metadata": {
        "colab_type": "code",
        "id": "0fa-l1LmaHyu",
        "colab": {}
      },
      "source": [
        "# USE CV TO FIND OPTIMAL max_depth and min_child_weight parameters\n",
        "\n",
        "def cv_booster(x_train, y_train):\n",
        "  \n",
        "  dtrain = xgboost.DMatrix(x_train, label=y_train, feature_names=list(x_train.columns))\n",
        "  params = {'max_depth':4, 'objective': 'reg:linear','eta':0.085, 'gamma':10, 'silent':1, 'subsample':1}\n",
        "  num_rounds = 1500\n",
        "  gridsearch_params = [ (max_depth, min_child_weight)\n",
        "      for max_depth in range(9,12)\n",
        "      for min_child_weight in range(5,8)]\n",
        "  # Define initial best params and MAE\n",
        "  min_mae = float(\"Inf\")\n",
        "  best_params = None\n",
        "  for max_depth, min_child_weight in gridsearch_params:\n",
        "    #print(\"CV with max_depth={}, min_child_weight={}\".format(max_depth, min_child_weight))\n",
        "\n",
        "    # Update our parameters\n",
        "    params['max_depth'] = max_depth\n",
        "    params['min_child_weight'] = min_child_weight\n",
        "    # Run CV\n",
        "    cv_results = xgboost.cv(params, dtrain, num_boost_round=num_rounds, metrics={'mae'}, early_stopping_rounds=10)\n",
        "\n",
        "    # Update best MAE\n",
        "    mean_mae = cv_results['test-mae-mean'].min()\n",
        "    boost_rounds = cv_results['test-mae-mean'].idxmin()\n",
        "    #print(\"\\tMAE {} for {} rounds\".format(mean_mae, boost_rounds))\n",
        "    \n",
        "    if mean_mae < min_mae:\n",
        "      min_mae = mean_mae\n",
        "      best_params = (max_depth, min_child_weight)\n",
        "  #print(\"Best params: {}, {}, MAE: {}\".format(best_params[0], best_params[1], min_mae))\n",
        "  return best_params[0], best_params[1]\n",
        "\n",
        "cv_booster(X_train, y_train)"
      ],
      "execution_count": 0,
      "outputs": []
    },
    {
      "cell_type": "code",
      "metadata": {
        "colab_type": "code",
        "id": "Kd4myDBqS18i",
        "colab": {}
      },
      "source": [
        "#TESTING/ TWEAKING PARAMETERS\n",
        "\n",
        "def xboost(x_train, y_train, x_test):\n",
        "  \"\"\"Trains xgboost model and returns predictions for x_test\"\"\"\n",
        "  dtrain = xgboost.DMatrix(x_train, label=y_train, feature_names=list(x_train.columns))\n",
        "  dtest = xgboost.DMatrix(x_test, feature_names=list(x_test.columns))\n",
        "\n",
        "  params = {'max_depth':9, 'objective': 'reg:linear', #'eta':0.093 ----> 92.97% and SMAPE= 6.73\n",
        "            'eta':0.199, 'gamma':10, 'min_child_weight':6,\n",
        "            'silent':1, 'subsample':1 }\n",
        "  \n",
        "  \"\"\"USE cv_booster function to get max_depth & min_child_weight\"\"\"\n",
        "  params['max_depth'], params['min_child_weight'] = cv_booster(x_train, y_train) \n",
        "  \n",
        "  num_rounds = 1500\n",
        "  model = xgboost.train(params, dtrain, num_rounds)\n",
        "  return pd.Series(model.predict(dtest))\n",
        "\n",
        "##############################################################################\n",
        "##############################################################################\n",
        "\n",
        "def SMAPE(forecast, actual):\n",
        "  \"\"\"Returns the Symmetric Mean Absolute Percentage Error between two Series\"\"\"\n",
        "  masked_arr = ~((forecast==0)&(actual==0))\n",
        "  diff = abs(forecast[masked_arr] - actual[masked_arr])\n",
        "  avg = (abs(forecast[masked_arr]) + abs(actual[masked_arr]))/2\n",
        "  print('SMAPE Error Score: ' + str(round(sum(diff/avg)/len(forecast) * 100, 2)) + ' %')\n",
        "  print(('Average Forecasting Accuracy: {} %').format(round((((((y_test - preds) / y_test) * 100).abs())-100).mean(), 2) * -1))\n",
        "\n",
        "preds = xboost(X_train, y_train, X_test)\n",
        "y_test= pd.Series(y_test, dtype='float32').reset_index(drop=True)\n",
        "\n",
        "(((((y_test - preds) / y_test) * 100).abs())-100).abs().astype('float').round(2) \\\n",
        ", SMAPE(preds, y_test)"
      ],
      "execution_count": 0,
      "outputs": []
    },
    {
      "cell_type": "code",
      "metadata": {
        "colab_type": "code",
        "id": "6L7jObJd153u",
        "colab": {}
      },
      "source": [
        "#Forecast Results (X_test, y_test, preds)\n",
        "forecast_actual=pd.concat([X_test.reset_index(drop=True), pd.DataFrame(y_test), pd.DataFrame(preds)], axis=1).\\\n",
        "sort_values(by=['Year', 'Month', 'Quarter']).rename(columns={'gcp_billings':'actual_billings', 0:'Forecasted_billings'})\n",
        "forecast_actual['Forecast_Accuracy']=(((((forecast_actual.actual_billings - forecast_actual.Forecasted_billings) / forecast_actual.actual_billings) * 100).abs())-100).abs()\n",
        "forecast_actual['Forecast_Accuracy'] = forecast_actual['Forecast_Accuracy'].astype('float').round(2)\n",
        "forecast_actual"
      ],
      "execution_count": 0,
      "outputs": []
    },
    {
      "cell_type": "code",
      "metadata": {
        "colab_type": "code",
        "id": "QIMq_pPrru6Q",
        "colab": {}
      },
      "source": [
        "pd.DataFrame(preds)"
      ],
      "execution_count": 0,
      "outputs": []
    },
    {
      "cell_type": "code",
      "metadata": {
        "colab_type": "code",
        "id": "yCg1AKHF6eos",
        "colab": {}
      },
      "source": [
        "y_test"
      ],
      "execution_count": 0,
      "outputs": []
    },
    {
      "cell_type": "code",
      "metadata": {
        "colab_type": "code",
        "id": "uV9MGzRspKDj",
        "colab": {}
      },
      "source": [
        "X_test"
      ],
      "execution_count": 0,
      "outputs": []
    },
    {
      "cell_type": "code",
      "metadata": {
        "colab_type": "code",
        "id": "Wl6vXbeV8iUj",
        "colab": {}
      },
      "source": [
        "pd.DataFrame(xboost(X_train, y_train, X_test)).reset_index()"
      ],
      "execution_count": 0,
      "outputs": []
    },
    {
      "cell_type": "code",
      "metadata": {
        "colab_type": "code",
        "id": "b5IDMKu0-cic",
        "colab": {}
      },
      "source": [
        "np.sqrt(mean_squared_error(preds, y_test))"
      ],
      "execution_count": 0,
      "outputs": []
    },
    {
      "cell_type": "markdown",
      "metadata": {
        "id": "gsxusgXLlTcA",
        "colab_type": "text"
      },
      "source": [
        "## Bayesian Optimization"
      ]
    },
    {
      "cell_type": "code",
      "metadata": {
        "id": "8daI5mKY1pVw",
        "colab_type": "code",
        "colab": {}
      },
      "source": [
        "pip install jupyter_http_over_ws\n",
        "# Optional: Install the extension to run every time the notebook server starts.\n",
        "# Adds a /http_over_websocket endpoint to the Tornado notebook server.\n",
        "jupyter serverextension enable --py jupyter_http_over_ws"
      ],
      "execution_count": 0,
      "outputs": []
    },
    {
      "cell_type": "code",
      "metadata": {
        "id": "tbXVFW_62I4S",
        "colab_type": "code",
        "colab": {}
      },
      "source": [
        "pip install --upgrade jupyter_http_over_ws>=0.0.1a3 && \\\n",
        "  jupyter serverextension enable --py jupyter_http_over_ws"
      ],
      "execution_count": 0,
      "outputs": []
    },
    {
      "cell_type": "code",
      "metadata": {
        "id": "COI7jY4G0TSE",
        "colab_type": "code",
        "colab": {}
      },
      "source": [
        "pip install jupyter_http_over_ws\n",
        "jupyter serverextension enable --py jupyter_http_over_ws"
      ],
      "execution_count": 0,
      "outputs": []
    },
    {
      "cell_type": "code",
      "metadata": {
        "id": "CCuObRiG0IX1",
        "colab_type": "code",
        "colab": {}
      },
      "source": [
        "!pip install jupyter_http_over_ws\n",
        "# Optional: Install the extension to run every time the notebook server starts.\n",
        "# Adds a /http_over_websocket endpoint to the Tornado notebook server.\n",
        "!jupyter serverextension enable --py jupyter_http_over_ws"
      ],
      "execution_count": 0,
      "outputs": []
    },
    {
      "cell_type": "code",
      "metadata": {
        "id": "xyTxRrKcntBw",
        "colab_type": "code",
        "colab": {}
      },
      "source": [
        "# !pip install -f http://h2o-release.s3.amazonaws.com/h2o/latest_stable_Py.html h2o"
      ],
      "execution_count": 0,
      "outputs": []
    },
    {
      "cell_type": "code",
      "metadata": {
        "id": "8AcyBC5vN0-b",
        "colab_type": "code",
        "colab": {}
      },
      "source": [
        "# import h2o\n",
        "# from h2o.estimators.gbm import H2OGradientBoostingEstimator\n",
        "\n",
        "# h2o.init()\n",
        "# h2o.connect()\n",
        "# data = h2o.H2OFrame(sales)\n",
        "\n",
        "# #data = h2o.upload_file(sales)\n",
        "# train_cols = [x for x in data.col_names if x not in ['Sales']]\n",
        "# target = \"Sales\"\n",
        "# train, test = data.split_frame(ratios=[0.7])"
      ],
      "execution_count": 0,
      "outputs": []
    },
    {
      "cell_type": "code",
      "metadata": {
        "id": "6W_OwjFllWDv",
        "colab_type": "code",
        "colab": {}
      },
      "source": [
        "def train_model(max_depth, \n",
        "                ntrees,\n",
        "                min_rows, \n",
        "                learn_rate, \n",
        "                sample_rate, \n",
        "                col_sample_rate):\n",
        "    params = {#'eval_metric': 'rmse',\n",
        "        'objective': \"reg:linear\",\n",
        "        'max_depth': int(max_depth),\n",
        "        'ntrees': int(ntrees),\n",
        "        'min_rows': int(min_rows),\n",
        "        'learn_rate':learn_rate,\n",
        "        'sample_rate':sample_rate,\n",
        "        'col_sample_rate':col_sample_rate}\n",
        "    \n",
        "    dtrain = xgboost.DMatrix(X_train, label=y_train, feature_names=list(X_train.columns))\n",
        "    #model = H2OGradientBoostingEstimator(nfolds=5,**params)\n",
        "    num_rounds = 50\n",
        "    \n",
        "    cv_score = xgboost.cv(params, dtrain, num_boost_round=num_rounds, metrics={'rmse'}, early_stopping_rounds=10)\n",
        "    #model = xgboost.train(params, dtrain, num_rounds)\n",
        "    #model.train(x=X, y=y, training_frame=train)\n",
        "    #return -model.rmse()\n",
        "    return -1.0 * cv_score['test-rmse-mean'].iloc[-1]\n",
        "  \n",
        "  \n",
        "bounds = {\n",
        "    'max_depth':(5,10),\n",
        "    'ntrees': (100,500),\n",
        "    'min_rows':(10,30),\n",
        "    'learn_rate':(0.001, 0.01),\n",
        "    'sample_rate':(0.5,0.8),\n",
        "    'col_sample_rate':(0.5,0.8)\n",
        "}"
      ],
      "execution_count": 0,
      "outputs": []
    },
    {
      "cell_type": "code",
      "metadata": {
        "id": "k2-eAzj6lWOV",
        "colab_type": "code",
        "colab": {}
      },
      "source": [
        "optimizer = BayesianOptimization(\n",
        "    f=train_model,\n",
        "    pbounds=bounds,\n",
        "    random_state=1,\n",
        ")\n",
        "optimizer.maximize(init_points=10, n_iter=10, acq='ei')"
      ],
      "execution_count": 0,
      "outputs": []
    },
    {
      "cell_type": "code",
      "metadata": {
        "id": "cPsaK5XAlWSm",
        "colab_type": "code",
        "colab": {}
      },
      "source": [
        "optimizer.max"
      ],
      "execution_count": 0,
      "outputs": []
    },
    {
      "cell_type": "code",
      "metadata": {
        "id": "yYJUh7N9pwQH",
        "colab_type": "code",
        "colab": {}
      },
      "source": [
        "params = optimizer.res['max']['max_params']\n",
        "params['max_depth'] = int(params['max_depth'])"
      ],
      "execution_count": 0,
      "outputs": []
    },
    {
      "cell_type": "code",
      "metadata": {
        "id": "qddtAQ_pp9EB",
        "colab_type": "code",
        "colab": {}
      },
      "source": [
        "\"\"\"Trains xgboost model and returns predictions for x_test\"\"\"\n",
        "\n",
        "dtest = xgboost.DMatrix(X_test, feature_names=list(X_test.columns))\n",
        "dtrain = xgboost.DMatrix(X_train, label=y_train, feature_names=list(X_train.columns))\n",
        "\n",
        "params = optimizer.res['max']['max_params'] \n",
        "\n",
        "num_rounds = 1500\n",
        "model = xgboost.train(params, dtrain, num_rounds)\n",
        "return pd.Series(model.predict(dtest))\n",
        "\n",
        "\n",
        "##############################################################################\n",
        "##############################################################################\n",
        "\n",
        "def SMAPE(forecast, actual):\n",
        "  \"\"\"Returns the Symmetric Mean Absolute Percentage Error between two Series\"\"\"\n",
        "  masked_arr = ~((forecast==0)&(actual==0))\n",
        "  diff = abs(forecast[masked_arr] - actual[masked_arr])\n",
        "  avg = (abs(forecast[masked_arr]) + abs(actual[masked_arr]))/2\n",
        "  print('SMAPE Error Score: ' + str(round(sum(diff/avg)/len(forecast) * 100, 2)) + ' %')\n",
        "  print(('Average Forecasting Accuracy: {} %').format(round((((((y_test - preds) / y_test) * 100).abs())-100).mean(), 2) * -1))\n",
        "\n",
        "#preds = xboost(X_train, y_train, X_test)\n",
        "preds =pd.Series(model.predict(dtest))\n",
        "\n",
        "y_test= pd.Series(y_test, dtype='float32').reset_index(drop=True)\n",
        "\n",
        "(((((y_test - preds) / y_test) * 100).abs())-100).abs().astype('float').round(2) \\\n",
        ", SMAPE(preds, y_test)"
      ],
      "execution_count": 0,
      "outputs": []
    },
    {
      "cell_type": "markdown",
      "metadata": {
        "colab_type": "text",
        "id": "OtJ-Mv6yz8cw"
      },
      "source": [
        "## Prediction for Future Data"
      ]
    },
    {
      "cell_type": "code",
      "metadata": {
        "colab_type": "code",
        "id": "CGC1wCeiiWgf",
        "colab": {}
      },
      "source": [
        "# List of series with future Dates, adding in 7 more rows(months)\n",
        "\n",
        "listOfSeries = [pd.Series([None, 6, 2019, 2], index=sales.columns ) , pd.Series([None, 7, 2019, 3], index=sales.columns ) , \n",
        "                pd.Series([None, 8, 2019, 3], index=sales.columns ) , pd.Series([None, 9, 2019, 3], index=sales.columns ),\n",
        "               pd.Series([None, 10, 2019, 4], index=sales.columns ),pd.Series([None,11, 2019, 4], index=sales.columns ),\n",
        "               pd.Series([None, 12, 2019, 4], index=sales.columns )]"
      ],
      "execution_count": 0,
      "outputs": []
    },
    {
      "cell_type": "code",
      "metadata": {
        "colab_type": "code",
        "id": "oKlhr9fTiajl",
        "colab": {}
      },
      "source": [
        "future_billings=sales.append(listOfSeries , ignore_index=True)"
      ],
      "execution_count": 0,
      "outputs": []
    },
    {
      "cell_type": "code",
      "metadata": {
        "colab_type": "code",
        "id": "__yVcrJMjtWR",
        "colab": {}
      },
      "source": [
        "future_billings.tail(7)"
      ],
      "execution_count": 0,
      "outputs": []
    },
    {
      "cell_type": "code",
      "metadata": {
        "colab_type": "code",
        "id": "A9SKLETwBVHi",
        "colab": {}
      },
      "source": [
        "#UNSEEN DATA\n",
        "x_train = future_billings[pd.notnull(future_billings['gcp_billings'])].drop(['gcp_billings'], axis=1)\n",
        "y_train = future_billings[pd.notnull(future_billings['gcp_billings'])]['gcp_billings']\n",
        "\n",
        "# x_test goes into predict model, model trains on x_train while y is used as target variable in it.\n",
        "x_test = future_billings[pd.isnull(future_billings['gcp_billings'])].drop(['gcp_billings'], axis=1)"
      ],
      "execution_count": 0,
      "outputs": []
    },
    {
      "cell_type": "code",
      "metadata": {
        "colab_type": "code",
        "id": "PkVoaqKRBVLv",
        "colab": {}
      },
      "source": [
        "future_preds=xboost(x_train, y_train, x_test)\n",
        "pd.DataFrame(future_preds)"
      ],
      "execution_count": 0,
      "outputs": []
    },
    {
      "cell_type": "code",
      "metadata": {
        "colab_type": "code",
        "id": "kgJq21p5BVFc",
        "colab": {}
      },
      "source": [
        "#7 Month sales Forecast\n",
        "pd.concat([future_billings.tail(7).reset_index(drop=True), pd.DataFrame(future_preds)], axis=1).rename(columns={0:'Forecasted_billings'})"
      ],
      "execution_count": 0,
      "outputs": []
    },
    {
      "cell_type": "markdown",
      "metadata": {
        "colab_type": "text",
        "id": "tXZpiwjMeKgh"
      },
      "source": [
        "## k-fold Cross Validation using XGBoost\n"
      ]
    },
    {
      "cell_type": "code",
      "metadata": {
        "colab_type": "code",
        "id": "wM_20Xi2eLq1",
        "colab": {}
      },
      "source": [
        "params = {\"objective\":\"reg:linear\",'colsample_bytree': 0.3,'max_depth': 5, 'alpha': 10,'learning_rate': 0.1}\n",
        "\n",
        "cv_results = xgboost.cv(dtrain=data_dmatrix, params=params, nfold=3, num_boost_round=50,early_stopping_rounds=10,metrics=\"rmse\", as_pandas=True, seed=123)"
      ],
      "execution_count": 0,
      "outputs": []
    },
    {
      "cell_type": "code",
      "metadata": {
        "colab_type": "code",
        "id": "Z7NDIOxAeVo4",
        "colab": {}
      },
      "source": [
        "cv_results.head()\n",
        "\n",
        "print((cv_results[\"test-rmse-mean\"]).tail(1))\n"
      ],
      "execution_count": 0,
      "outputs": []
    },
    {
      "cell_type": "code",
      "metadata": {
        "colab_type": "code",
        "id": "Qk21xjte7EFd",
        "colab": {}
      },
      "source": [
        "cv_results"
      ],
      "execution_count": 0,
      "outputs": []
    },
    {
      "cell_type": "code",
      "metadata": {
        "colab_type": "code",
        "id": "e-psMaXV7C3q",
        "colab": {}
      },
      "source": [
        "pd.DataFrame(preds)"
      ],
      "execution_count": 0,
      "outputs": []
    },
    {
      "cell_type": "code",
      "metadata": {
        "colab_type": "code",
        "id": "j2bNz0freaCd",
        "colab": {}
      },
      "source": [
        "xg_reg = xgboost.train(params=params, dtrain=data_dmatrix, num_boost_round=10)\n"
      ],
      "execution_count": 0,
      "outputs": []
    },
    {
      "cell_type": "code",
      "metadata": {
        "colab_type": "code",
        "id": "QdQdwc3heaHt",
        "colab": {}
      },
      "source": [
        "import matplotlib.pyplot as plt\n",
        "\n",
        "xgboost.plot_tree(xg_reg,num_trees=0)\n",
        "plt.rcParams['figure.figsize'] = [50, 10]\n",
        "plt.show()"
      ],
      "execution_count": 0,
      "outputs": []
    },
    {
      "cell_type": "code",
      "metadata": {
        "colab_type": "code",
        "id": "Allwcv6qeaGP",
        "colab": {}
      },
      "source": [
        "xgboost.plot_importance(xg_reg)\n",
        "plt.rcParams['figure.figsize'] = [5, 5]\n",
        "plt.show()"
      ],
      "execution_count": 0,
      "outputs": []
    }
  ]
}