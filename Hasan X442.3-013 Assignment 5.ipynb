{
 "cells": [
  {
   "cell_type": "markdown",
   "metadata": {},
   "source": [
    "# Hasan X442.3 Assignment 5"
   ]
  },
  {
   "cell_type": "code",
   "execution_count": null,
   "metadata": {},
   "outputs": [],
   "source": []
  },
  {
   "cell_type": "markdown",
   "metadata": {},
   "source": [
    "# Question 1"
   ]
  },
  {
   "cell_type": "code",
   "execution_count": null,
   "metadata": {},
   "outputs": [],
   "source": [
    "#Using the keys method for dictionaries and the sort method for lists, write a for loop \n",
    "#that prints the keys and corresponding values of a dictionary in the alphabetical order of the keys"
   ]
  },
  {
   "cell_type": "code",
   "execution_count": 25,
   "metadata": {},
   "outputs": [
    {
     "name": "stdout",
     "output_type": "stream",
     "text": [
      "[('a', 10), ('b', 20), ('f', 1), ('q', 2), ('t', 11), ('z', 5)]\n"
     ]
    }
   ],
   "source": [
    "dicty = {'a': 10, 't': 11, 'f': 1, 'z':5, 'q':2, 'b':20}\n",
    "\n",
    "for i,k in dicty.items():\n",
    "    new=sorted(dicty.items())\n",
    "print(new)"
   ]
  },
  {
   "cell_type": "code",
   "execution_count": 20,
   "metadata": {},
   "outputs": [
    {
     "data": {
      "text/plain": [
       "dict_items([('a', 10), ('t', 11), ('f', 1), ('z', 5), ('q', 2), ('b', 20)])"
      ]
     },
     "execution_count": 20,
     "metadata": {},
     "output_type": "execute_result"
    }
   ],
   "source": [
    "dicty.items()"
   ]
  },
  {
   "cell_type": "markdown",
   "metadata": {},
   "source": [
    "# Question 2. "
   ]
  },
  {
   "cell_type": "code",
   "execution_count": null,
   "metadata": {},
   "outputs": [],
   "source": [
    "#As an alternative to the range function, some programmers like to increment a counter inside a while loop \n",
    "#and stop the while loop when the counter is no longer less than the length of the array. \n",
    "#Rewrite the following code using a while loop instead of a for loop."
   ]
  },
  {
   "cell_type": "code",
   "execution_count": null,
   "metadata": {},
   "outputs": [],
   "source": [
    "a = [7,12,9,14,15,18,12] \n",
    "b = [9,14,8,3,15,17,15] \n",
    "big = [] \n",
    "for i in range(len(a)): \n",
    "    big.append(max(a[i],b[i]))"
   ]
  },
  {
   "cell_type": "code",
   "execution_count": null,
   "metadata": {},
   "outputs": [],
   "source": []
  },
  {
   "cell_type": "code",
   "execution_count": 9,
   "metadata": {},
   "outputs": [],
   "source": [
    "a = [7,12,9,14,15,18,12] \n",
    "b = [9,14,8,3,15,17,15] \n",
    "big = [] \n",
    "t = -1\n",
    "while t < len(a):\n",
    "    t+=1\n",
    "    if t >= len(a):\n",
    "        break\n",
    "    big.append(max(a[t],b[t]))"
   ]
  },
  {
   "cell_type": "code",
   "execution_count": 10,
   "metadata": {},
   "outputs": [
    {
     "data": {
      "text/plain": [
       "[9, 14, 9, 14, 15, 18, 15]"
      ]
     },
     "execution_count": 10,
     "metadata": {},
     "output_type": "execute_result"
    }
   ],
   "source": [
    "big"
   ]
  },
  {
   "cell_type": "code",
   "execution_count": null,
   "metadata": {},
   "outputs": [],
   "source": []
  },
  {
   "cell_type": "code",
   "execution_count": 6,
   "metadata": {},
   "outputs": [],
   "source": [
    "a = [7,12,9,14,15,18,12] \n",
    "b = [9,14,8,3,15,17,15] \n",
    "big2 = [] \n",
    "t = -1\n",
    "while True:\n",
    "    t+=1\n",
    "    if t >= len(a):\n",
    "        break\n",
    "    big2.append(max(a[t],b[t]))"
   ]
  },
  {
   "cell_type": "code",
   "execution_count": 7,
   "metadata": {},
   "outputs": [
    {
     "data": {
      "text/plain": [
       "[9, 14, 9, 14, 15, 18, 15]"
      ]
     },
     "execution_count": 7,
     "metadata": {},
     "output_type": "execute_result"
    }
   ],
   "source": [
    "big2"
   ]
  },
  {
   "cell_type": "markdown",
   "metadata": {},
   "source": [
    "# Question 3"
   ]
  },
  {
   "cell_type": "code",
   "execution_count": 101,
   "metadata": {},
   "outputs": [],
   "source": [
    "#Write a loop that reads each line of a file and counts the number of lines that are read until\n",
    " #the total length of the lines is 1,000 or more characters. Use a break statement to make sure that \n",
    " #you don't continue reading the file once at least 1,000 characters are read.\n",
    "\n"
   ]
  },
  {
   "cell_type": "code",
   "execution_count": 221,
   "metadata": {},
   "outputs": [
    {
     "name": "stdout",
     "output_type": "stream",
     "text": [
      "Number of lines = 5 Number of characters = 1359\n"
     ]
    }
   ],
   "source": [
    "try: \n",
    "    f = open(file, 'r') \n",
    "\n",
    "except IOError: \n",
    "    print(\"Unable to open\", file ,\"for reading\")\n",
    "\n",
    "line = f.readlines()\n",
    "#f.close()\n",
    "\n",
    "lettercounts = 0\n",
    "linecounts = 0\n",
    "for word in line:\n",
    "    linecounts += 1\n",
    "    lettercounts += len(word)\n",
    "    if lettercounts >= 1000:\n",
    "        break\n",
    "\n",
    "print(\"Number of lines =\", linecounts, \"Number of characters =\" ,lettercounts)"
   ]
  },
  {
   "cell_type": "code",
   "execution_count": 222,
   "metadata": {},
   "outputs": [
    {
     "name": "stdout",
     "output_type": "stream",
     "text": [
      "24 4218\n"
     ]
    }
   ],
   "source": [
    "lettercounts = 0\n",
    "linecounts = 0\n",
    "for word in line:\n",
    "    linecounts += 1\n",
    "    lettercounts += len(word)\n",
    "print(linecounts, lettercounts)"
   ]
  },
  {
   "cell_type": "markdown",
   "metadata": {},
   "source": [
    "# Question 4"
   ]
  },
  {
   "cell_type": "code",
   "execution_count": 223,
   "metadata": {},
   "outputs": [],
   "source": [
    "#Modify the program written in question 3 so that it doesn't count \n",
    "#characters on any line that begins with a pound sign (#)."
   ]
  },
  {
   "cell_type": "code",
   "execution_count": 225,
   "metadata": {},
   "outputs": [
    {
     "name": "stdout",
     "output_type": "stream",
     "text": [
      "Number of lines = 6 Number of characters = 1303\n"
     ]
    }
   ],
   "source": [
    "try: \n",
    "    f = open(file, 'r') \n",
    "\n",
    "except IOError: \n",
    "    print(\"Unable to open\", file ,\"for reading\")\n",
    "\n",
    "line = f.readlines()\n",
    "f.close()\n",
    "\n",
    "lettercounts = 0\n",
    "linecounts = 0\n",
    "for word in line:\n",
    "    if '#' not in word[0]:\n",
    "        linecounts += 1\n",
    "        lettercounts += len(word)    \n",
    "    if lettercounts >= 1000:\n",
    "        break\n",
    "\n",
    "print(\"Number of lines =\", linecounts, \"Number of characters =\" ,lettercounts)"
   ]
  },
  {
   "cell_type": "code",
   "execution_count": 213,
   "metadata": {},
   "outputs": [
    {
     "name": "stdout",
     "output_type": "stream",
     "text": [
      "F\n",
      "\n",
      "\n",
      "#\n",
      "\n",
      "\n",
      "R\n",
      "\n",
      "\n",
      "C\n",
      "\n",
      "\n",
      "B\n",
      "\n",
      "\n",
      "#\n",
      "\n",
      "\n",
      "S\n",
      "\n",
      "\n",
      "M\n",
      "\n",
      "\n",
      "A\n",
      "\n",
      "\n",
      "A\n",
      "\n",
      "\n",
      "R\n",
      "\n",
      "\n"
     ]
    }
   ],
   "source": [
    "for word in line:\n",
    "    print(word[0])"
   ]
  },
  {
   "cell_type": "code",
   "execution_count": 226,
   "metadata": {},
   "outputs": [
    {
     "name": "stdout",
     "output_type": "stream",
     "text": [
      "F\n",
      "\n",
      "\n",
      "\n",
      "\n",
      "R\n",
      "\n",
      "\n",
      "C\n",
      "\n",
      "\n",
      "B\n",
      "\n",
      "\n",
      "\n",
      "\n",
      "\n",
      "\n",
      "S\n",
      "\n",
      "\n",
      "M\n",
      "\n",
      "\n",
      "A\n",
      "\n",
      "\n",
      "A\n",
      "\n",
      "\n",
      "R\n",
      "\n",
      "\n"
     ]
    }
   ],
   "source": [
    "for word in line:\n",
    "    if '#' not in word[0]:\n",
    "        print(word[0])"
   ]
  },
  {
   "cell_type": "code",
   "execution_count": null,
   "metadata": {},
   "outputs": [],
   "source": []
  },
  {
   "cell_type": "code",
   "execution_count": 7,
   "metadata": {},
   "outputs": [
    {
     "data": {
      "text/plain": [
       "'file.txt'"
      ]
     },
     "execution_count": 7,
     "metadata": {},
     "output_type": "execute_result"
    }
   ],
   "source": [
    "file = 'file.txt'\n",
    "file"
   ]
  },
  {
   "cell_type": "code",
   "execution_count": 23,
   "metadata": {},
   "outputs": [],
   "source": [
    "def counting(file):\n",
    "    try: \n",
    "        f = open(file, 'r') \n",
    "    except IOError: \n",
    "        print(\"Unable to open\", file ,\"for reading\")\n",
    "\n",
    "    line = f.readlines()\n",
    "    f.close()\n",
    "    words = 0\n",
    "    lettercounts = 0\n",
    "    linecounts = 0\n",
    "    for word in line:\n",
    "        linecounts += 1\n",
    "        lettercounts += len(word)\n",
    "        words += len(word.split())\n",
    "        \n",
    "    return linecounts, lettercounts, words\n",
    "\n"
   ]
  },
  {
   "cell_type": "code",
   "execution_count": 26,
   "metadata": {},
   "outputs": [
    {
     "data": {
      "text/plain": [
       "(24, 4218, 668)"
      ]
     },
     "execution_count": 26,
     "metadata": {},
     "output_type": "execute_result"
    }
   ],
   "source": [
    "counting(file)"
   ]
  },
  {
   "cell_type": "code",
   "execution_count": null,
   "metadata": {},
   "outputs": [],
   "source": []
  }
 ],
 "metadata": {
  "kernelspec": {
   "display_name": "Python 3",
   "language": "python",
   "name": "python3"
  },
  "language_info": {
   "codemirror_mode": {
    "name": "ipython",
    "version": 3
   },
   "file_extension": ".py",
   "mimetype": "text/x-python",
   "name": "python",
   "nbconvert_exporter": "python",
   "pygments_lexer": "ipython3",
   "version": "3.6.4"
  }
 },
 "nbformat": 4,
 "nbformat_minor": 2
}
